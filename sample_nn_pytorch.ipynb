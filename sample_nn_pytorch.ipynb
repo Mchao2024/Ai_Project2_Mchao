{
 "cells": [
  {
   "cell_type": "code",
   "execution_count": 1,
   "metadata": {},
   "outputs": [
    {
     "name": "stdout",
     "output_type": "stream",
     "text": [
      "torch.Size([11]) torch.Size([11])\n"
     ]
    },
    {
     "data": {
      "image/png": "[encoded data removed]",
      "text/plain": [
       "<Figure size 432x288 with 1 Axes>"
      ]
     },
     "metadata": {
      "needs_background": "light"
     },
     "output_type": "display_data"
    }
   ],
   "source": [
    "import numpy as np\n",
    "import torch as t\n",
    "from matplotlib import pyplot as plt\n",
    "x_s =  [0.5, 14.0, 15.0, 28.0, 11.0, 8.0, 3.0, -4.0, 6.0, 13.0, 21.0]\n",
    "y_s = [35.7, 55.9, 58.2, 81.9, 56.3, 48.9, 33.9, 21.8, 48.4, 60.4, 68.4]\n",
    "x_t = t.tensor(x_s)\n",
    "y_t = t.tensor(y_s)\n",
    "print(x_t.shape, y_t.shape)\n",
    "plt.plot(x_s,y_s,'*')\n",
    "plt.show()"
   ]
  },
  {
   "cell_type": "code",
   "execution_count": 2,
   "metadata": {},
   "outputs": [],
   "source": [
    "x_n = (x_t - t.mean(x_t))/t.std(x_t)\n",
    "y_n = (x_n - t.mean(x_n))/t.std(x_n)"
   ]
  },
  {
   "cell_type": "code",
   "execution_count": 24,
   "metadata": {},
   "outputs": [
    {
     "name": "stdout",
     "output_type": "stream",
     "text": [
      "tensor([ 0,  9,  5, 10,  4,  3,  7]) tensor([8, 1, 2, 6])\n"
     ]
    }
   ],
   "source": [
    "# split training - validation\n",
    "n_samples = x_n.shape[0]\n",
    "n_val = int(0.4 * n_samples) # 20 % of the samples for validation\n",
    "shuffled_indices = t.randperm(n_samples)\n",
    "train_indices = shuffled_indices[:-n_val]\n",
    "val_indices = shuffled_indices[-n_val:]\n",
    "print(train_indices, val_indices)"
   ]
  },
  {
   "cell_type": "code",
   "execution_count": 26,
   "metadata": {},
   "outputs": [
    {
     "name": "stdout",
     "output_type": "stream",
     "text": [
      "tensor([[-1.0856],\n",
      "        [ 0.3800],\n",
      "        [ 0.4885],\n",
      "        [ 1.8998],\n",
      "        [ 0.0543],\n",
      "        [-0.2714],\n",
      "        [-0.8142],\n",
      "        [-1.5741],\n",
      "        [-0.4885],\n",
      "        [ 0.2714],\n",
      "        [ 1.1399]])\n",
      "tensor([[-1.0856],\n",
      "        [ 0.3800],\n",
      "        [ 0.4885],\n",
      "        [ 1.8998],\n",
      "        [ 0.0543],\n",
      "        [-0.2714],\n",
      "        [-0.8142],\n",
      "        [-1.5741],\n",
      "        [-0.4885],\n",
      "        [ 0.2714],\n",
      "        [ 1.1399]])\n",
      "torch.Size([7, 1]) torch.float32\n",
      "torch.Size([7, 1]) torch.float32\n"
     ]
    }
   ],
   "source": [
    "x_t_2d = x_n.unsqueeze(1)\n",
    "y_t_2d = y_n.unsqueeze(1)\n",
    "print(x_t_2d)\n",
    "print(y_t_2d)\n",
    "\n",
    "x_t_train = x_t_2d[train_indices,:]\n",
    "x_t_val   = x_t_2d[val_indices,:]\n",
    "\n",
    "y_t_train = y_t_2d[train_indices,:]\n",
    "y_t_val   = y_t_2d[val_indices,:]\n",
    "\n",
    "print(x_t_train.shape, x_t_train.dtype)\n",
    "print(y_t_train.shape, y_t_train.dtype)"
   ]
  },
  {
   "cell_type": "code",
   "execution_count": 5,
   "metadata": {},
   "outputs": [],
   "source": [
    "def training_loop(n_epochs, optimizer, model, loss_fn, \n",
    "                  x_t_train, x_t_val, y_t_train, y_t_val, eps = 0.01):\n",
    "                  \n",
    "    for epoch in range(1, n_epochs + 1):\n",
    "        # forward pass training\n",
    "        y_p_train  = model(x_t_train)\n",
    "        loss_train = loss_fn(y_p_train, y_t_train)\n",
    "        \n",
    "        # backwards training\n",
    "        optimizer.zero_grad() \n",
    "        loss_train.backward()  # gradients are computed according to the optimization method\n",
    "        optimizer.step()       # parameters are changed based on the learning rate and gradient\n",
    "\n",
    "        if epoch == 1 or epoch % 10 == 0:\n",
    "            y_p_val    = model(x_t_val)\n",
    "            loss_val   = loss_fn(y_p_val, y_t_val)\n",
    "            print(f\"Epoch {epoch}, Training loss {loss_train.item():.4f},\"\n",
    "f\" Validation loss {loss_val.item():.4f}\")\n",
    "        if loss_train < eps:\n",
    "            break;"
   ]
  },
  {
   "cell_type": "code",
   "execution_count": 34,
   "metadata": {},
   "outputs": [
    {
     "name": "stdout",
     "output_type": "stream",
     "text": [
      "Epoch 1, Training loss 1.7305, Validation loss 0.4168\n",
      "Epoch 10, Training loss 1.2428, Validation loss 0.3458\n",
      "Epoch 20, Training loss 0.9487, Validation loss 0.2663\n",
      "Epoch 30, Training loss 0.6928, Validation loss 0.1622\n",
      "Epoch 40, Training loss 0.4594, Validation loss 0.1020\n",
      "Epoch 50, Training loss 0.2586, Validation loss 0.0488\n",
      "Epoch 60, Training loss 0.1139, Validation loss 0.0112\n",
      "Epoch 70, Training loss 0.0359, Validation loss 0.0011\n",
      "Epoch 80, Training loss 0.0095, Validation loss 0.0041\n",
      "Epoch 90, Training loss 0.0062, Validation loss 0.0099\n",
      "Epoch 100, Training loss 0.0066, Validation loss 0.0116\n",
      "Epoch 110, Training loss 0.0060, Validation loss 0.0103\n",
      "Epoch 120, Training loss 0.0054, Validation loss 0.0084\n",
      "Epoch 130, Training loss 0.0051, Validation loss 0.0071\n",
      "Epoch 140, Training loss 0.0049, Validation loss 0.0065\n",
      "Epoch 150, Training loss 0.0048, Validation loss 0.0064\n",
      "Epoch 160, Training loss 0.0047, Validation loss 0.0064\n",
      "Epoch 170, Training loss 0.0046, Validation loss 0.0063\n",
      "Epoch 180, Training loss 0.0045, Validation loss 0.0062\n",
      "Epoch 190, Training loss 0.0044, Validation loss 0.0061\n",
      "Epoch 200, Training loss 0.0044, Validation loss 0.0059\n",
      "Epoch 210, Training loss 0.0043, Validation loss 0.0058\n",
      "Epoch 220, Training loss 0.0042, Validation loss 0.0057\n",
      "Epoch 230, Training loss 0.0042, Validation loss 0.0056\n",
      "Epoch 240, Training loss 0.0041, Validation loss 0.0055\n",
      "Epoch 250, Training loss 0.0040, Validation loss 0.0054\n",
      "Epoch 260, Training loss 0.0039, Validation loss 0.0053\n",
      "Epoch 270, Training loss 0.0039, Validation loss 0.0052\n",
      "Epoch 280, Training loss 0.0038, Validation loss 0.0051\n",
      "Epoch 290, Training loss 0.0037, Validation loss 0.0050\n",
      "Epoch 300, Training loss 0.0037, Validation loss 0.0049\n",
      "Epoch 310, Training loss 0.0036, Validation loss 0.0048\n",
      "Epoch 320, Training loss 0.0035, Validation loss 0.0047\n",
      "Epoch 330, Training loss 0.0035, Validation loss 0.0046\n",
      "Epoch 340, Training loss 0.0034, Validation loss 0.0045\n",
      "Epoch 350, Training loss 0.0033, Validation loss 0.0044\n",
      "output tensor([[-0.5653],\n",
      "        [ 0.4220],\n",
      "        [ 0.5455],\n",
      "        [-0.8957]], grad_fn=<AddmmBackward0>)\n",
      "answer tensor([[-0.4885],\n",
      "        [ 0.3800],\n",
      "        [ 0.4885],\n",
      "        [-0.8142]])\n"
     ]
    }
   ],
   "source": [
    "import torch.nn as nn\n",
    "import torch.optim as optim # optimization module (SGD)\n",
    "\n",
    "seq_model = nn.Sequential(\n",
    "                nn.Linear(1, 13),  # one input and 13 outputs: each output hi = w1i * x + bi\n",
    "                nn.Sigmoid(),   # activation function f = use Tanh or ReLU or Sigmoid  f(hi)\n",
    "                nn.Linear(13, 1)) # 13 inputs, one output: y = sum(w2i*f(hi) + b)\n",
    "seq_model\n",
    "\n",
    "optimizer = optim.Adam(seq_model.parameters(), lr=1e-2) # try SGD, try other lr\n",
    "\n",
    "training_loop(n_epochs    = 350,\n",
    "                optimizer = optimizer,  \n",
    "                model     = seq_model,\n",
    "                loss_fn   = nn.MSELoss(), \n",
    "                x_t_train = x_t_train, x_t_val= x_t_val, \n",
    "                y_t_train = y_t_train, y_t_val = y_t_val,\n",
    "                eps = 1e-3)\n",
    "\n",
    "print('output', seq_model(x_t_val))\n",
    "print('answer', y_t_val)\n",
    "#print('hidden', seq_model.hidden_linear.weight.grad, seq_model.hidden_linear.weight)"
   ]
  },
  {
   "cell_type": "code",
   "execution_count": 35,
   "metadata": {},
   "outputs": [
    {
     "name": "stdout",
     "output_type": "stream",
     "text": [
      "torch.Size([4, 1])\n"
     ]
    },
    {
     "data": {
      "text/plain": [
       "[<matplotlib.lines.Line2D at 0x137ad1be0>]"
      ]
     },
     "execution_count": 35,
     "metadata": {},
     "output_type": "execute_result"
    },
    {
     "data": {
      "image/png": "[encoded data removed]",
      "text/plain": [
       "<Figure size 432x288 with 1 Axes>"
      ]
     },
     "metadata": {
      "needs_background": "light"
     },
     "output_type": "display_data"
    }
   ],
   "source": [
    "from matplotlib import pyplot as plt\n",
    "x_sample = t.arange(-1.5, 2.5).unsqueeze(1)\n",
    "print(x_sample.shape)\n",
    "#fig = plt.figure(dpi=600)\n",
    "plt.xlabel(\"x\")\n",
    "plt.ylabel(\"y\")\n",
    "plt.plot(x_n.numpy(), y_n.numpy(), 'b*')\n",
    "plt.plot(x_sample.numpy(), seq_model(x_sample).detach().numpy(), 'c.-')\n",
    "plt.plot(x_n[train_indices].numpy(),      seq_model(x_t_train).detach().numpy(),   'ro')\n",
    "plt.plot(x_n[val_indices].numpy(),      seq_model(x_t_val).detach().numpy(),   'g.')\n",
    "#plt.plot()"
   ]
  },
  {
   "cell_type": "code",
   "execution_count": 14,
   "metadata": {},
   "outputs": [
    {
     "name": "stdout",
     "output_type": "stream",
     "text": [
      "0.weight torch.Size([13, 1])\n",
      "0.bias torch.Size([13])\n",
      "2.weight torch.Size([1, 13])\n",
      "2.bias torch.Size([1])\n"
     ]
    }
   ],
   "source": [
    "for name, param in seq_model.named_parameters():\n",
    "    print(name, param.shape)            "
   ]
  },
  {
   "cell_type": "code",
   "execution_count": 38,
   "metadata": {},
   "outputs": [
    {
     "name": "stdout",
     "output_type": "stream",
     "text": [
      "Epoch 1, Training loss 1.2605, Validation loss 0.3053\n",
      "Epoch 10, Training loss 0.6788, Validation loss 0.1500\n",
      "Epoch 20, Training loss 0.3488, Validation loss 0.0671\n",
      "Epoch 30, Training loss 0.1824, Validation loss 0.0302\n",
      "Epoch 40, Training loss 0.0984, Validation loss 0.0157\n",
      "Epoch 50, Training loss 0.0563, Validation loss 0.0116\n",
      "Epoch 60, Training loss 0.0353, Validation loss 0.0119\n",
      "Epoch 70, Training loss 0.0250, Validation loss 0.0137\n",
      "Epoch 80, Training loss 0.0199, Validation loss 0.0157\n",
      "Epoch 90, Training loss 0.0173, Validation loss 0.0175\n",
      "Epoch 100, Training loss 0.0160, Validation loss 0.0189\n",
      "Epoch 110, Training loss 0.0153, Validation loss 0.0199\n",
      "Epoch 120, Training loss 0.0150, Validation loss 0.0206\n",
      "Epoch 130, Training loss 0.0147, Validation loss 0.0211\n",
      "Epoch 140, Training loss 0.0145, Validation loss 0.0213\n",
      "Epoch 150, Training loss 0.0144, Validation loss 0.0215\n",
      "Epoch 160, Training loss 0.0142, Validation loss 0.0215\n",
      "Epoch 170, Training loss 0.0141, Validation loss 0.0215\n",
      "Epoch 180, Training loss 0.0140, Validation loss 0.0214\n",
      "Epoch 190, Training loss 0.0139, Validation loss 0.0213\n",
      "Epoch 200, Training loss 0.0138, Validation loss 0.0212\n",
      "Epoch 210, Training loss 0.0137, Validation loss 0.0211\n",
      "Epoch 220, Training loss 0.0135, Validation loss 0.0210\n",
      "Epoch 230, Training loss 0.0134, Validation loss 0.0208\n",
      "Epoch 240, Training loss 0.0133, Validation loss 0.0207\n",
      "Epoch 250, Training loss 0.0132, Validation loss 0.0205\n",
      "Epoch 260, Training loss 0.0131, Validation loss 0.0204\n",
      "Epoch 270, Training loss 0.0130, Validation loss 0.0202\n",
      "Epoch 280, Training loss 0.0129, Validation loss 0.0201\n",
      "Epoch 290, Training loss 0.0128, Validation loss 0.0199\n",
      "Epoch 300, Training loss 0.0127, Validation loss 0.0198\n",
      "Epoch 310, Training loss 0.0126, Validation loss 0.0196\n",
      "Epoch 320, Training loss 0.0125, Validation loss 0.0195\n",
      "Epoch 330, Training loss 0.0124, Validation loss 0.0194\n",
      "Epoch 340, Training loss 0.0123, Validation loss 0.0192\n",
      "Epoch 350, Training loss 0.0122, Validation loss 0.0191\n",
      "Epoch 360, Training loss 0.0121, Validation loss 0.0189\n",
      "Epoch 370, Training loss 0.0120, Validation loss 0.0188\n",
      "Epoch 380, Training loss 0.0120, Validation loss 0.0186\n",
      "Epoch 390, Training loss 0.0119, Validation loss 0.0185\n",
      "Epoch 400, Training loss 0.0118, Validation loss 0.0184\n",
      "Epoch 410, Training loss 0.0117, Validation loss 0.0182\n",
      "Epoch 420, Training loss 0.0116, Validation loss 0.0181\n",
      "Epoch 430, Training loss 0.0115, Validation loss 0.0180\n",
      "Epoch 440, Training loss 0.0114, Validation loss 0.0178\n",
      "Epoch 450, Training loss 0.0113, Validation loss 0.0177\n",
      "Epoch 460, Training loss 0.0113, Validation loss 0.0176\n",
      "Epoch 470, Training loss 0.0112, Validation loss 0.0174\n",
      "Epoch 480, Training loss 0.0111, Validation loss 0.0173\n",
      "Epoch 490, Training loss 0.0110, Validation loss 0.0172\n",
      "Epoch 500, Training loss 0.0109, Validation loss 0.0170\n",
      "output tensor([[-0.6455],\n",
      "        [ 0.4627],\n",
      "        [ 0.5998],\n",
      "        [-0.9702]], grad_fn=<AddmmBackward0>)\n",
      "answer tensor([[-0.4885],\n",
      "        [ 0.3800],\n",
      "        [ 0.4885],\n",
      "        [-0.8142]])\n",
      "hidden tensor([[ 4.8529e-04],\n",
      "        [-9.4098e-04],\n",
      "        [ 5.1358e-03],\n",
      "        [ 1.5234e-02],\n",
      "        [-8.2418e-04],\n",
      "        [-6.1236e-05],\n",
      "        [ 3.4432e-03],\n",
      "        [ 1.2029e-03],\n",
      "        [ 2.0106e-03],\n",
      "        [-2.3100e-03],\n",
      "        [ 1.3744e-02],\n",
      "        [ 1.0201e-03],\n",
      "        [ 2.1326e-03]]) Parameter containing:\n",
      "tensor([[ 0.5498],\n",
      "        [ 0.3909],\n",
      "        [-0.3258],\n",
      "        [ 0.8696],\n",
      "        [-0.1179],\n",
      "        [-0.2662],\n",
      "        [ 0.4970],\n",
      "        [ 0.1321],\n",
      "        [-0.2676],\n",
      "        [-0.6475],\n",
      "        [ 0.8898],\n",
      "        [ 0.5208],\n",
      "        [ 0.1002]], requires_grad=True)\n"
     ]
    }
   ],
   "source": [
    "from collections import OrderedDict\n",
    "n_hidden = 13\n",
    "seq_model2 = nn.Sequential(OrderedDict([\n",
    "                    ('hidden_linear', nn.Linear(1, n_hidden)),\n",
    "                    ('hidden_activation', nn.Tanh()),\n",
    "                    ('output_linear', nn.Linear(n_hidden, 1))\n",
    "                    ]))\n",
    "seq_model2\n",
    "optimizer = optim.SGD(seq_model2.parameters(), lr=1e-2) # try SGD, try other lr\n",
    "\n",
    "training_loop(n_epochs    = 500, \n",
    "                optimizer = optimizer,  \n",
    "                model     = seq_model2,\n",
    "                loss_fn   = nn.MSELoss(), \n",
    "                x_t_train = x_t_train, x_t_val= x_t_val, \n",
    "                y_t_train= y_t_train, y_t_val = y_t_val, \n",
    "                eps = 1e-3)\n",
    "\n",
    "print('output', seq_model2(x_t_val))\n",
    "print('answer', y_t_val)\n",
    "print('hidden', seq_model2.hidden_linear.weight.grad, seq_model2.hidden_linear.weight)"
   ]
  },
  {
   "cell_type": "code",
   "execution_count": 53,
   "metadata": {},
   "outputs": [
    {
     "name": "stdout",
     "output_type": "stream",
     "text": [
      "torch.Size([40, 1])\n"
     ]
    },
    {
     "data": {
      "text/plain": [
       "[<matplotlib.lines.Line2D at 0x13833fac0>]"
      ]
     },
     "execution_count": 53,
     "metadata": {},
     "output_type": "execute_result"
    },
    {
     "data": {
      "image/png": "[encoded data removed]",
      "text/plain": [
       "<Figure size 432x288 with 1 Axes>"
      ]
     },
     "metadata": {
      "needs_background": "light"
     },
     "output_type": "display_data"
    }
   ],
   "source": [
    "from matplotlib import pyplot as plt\n",
    "x_sample = t.arange(-1.5, 2.5, 0.1).unsqueeze(1)\n",
    "print(x_sample.shape)\n",
    "#fig = plt.figure(dpi=600)\n",
    "plt.xlabel(\"x\")\n",
    "plt.ylabel(\"y\")\n",
    "plt.plot(x_n.numpy(), y_n.numpy(), 'b*')\n",
    "plt.plot(x_sample.numpy(), seq_model2(x_sample).detach().numpy(), 'c.-')\n",
    "plt.plot(x_n[train_indices].numpy(),      seq_model2(x_t_train).detach().numpy(),   'ro')\n",
    "plt.plot(x_n[val_indices].numpy(),      seq_model2(x_t_val).detach().numpy(),   'g.')\n",
    "#plt.plot()"
   ]
  },
  {
   "cell_type": "code",
   "execution_count": 38,
   "metadata": {},
   "outputs": [
    {
     "name": "stdout",
     "output_type": "stream",
     "text": [
      "hidden_linear.weight torch.Size([13, 1]) Parameter containing:\n",
      "tensor([[ 0.1305],\n",
      "        [-0.5386],\n",
      "        [ 0.7578],\n",
      "        [ 0.5143],\n",
      "        [ 0.7198],\n",
      "        [ 0.8529],\n",
      "        [-0.1078],\n",
      "        [-0.1211],\n",
      "        [-0.5451],\n",
      "        [ 0.7771],\n",
      "        [ 0.0987],\n",
      "        [-0.7111],\n",
      "        [ 0.5057]], requires_grad=True)\n",
      "hidden_linear.bias torch.Size([13]) Parameter containing:\n",
      "tensor([-0.9648,  0.5353,  0.7620, -0.3512, -0.9700,  0.5850,  0.5121,  0.9163,\n",
      "        -0.4759,  0.4093, -0.2157, -0.5971,  0.2564], requires_grad=True)\n",
      "output_linear.weight torch.Size([1, 13]) Parameter containing:\n",
      "tensor([[ 0.1639, -0.1157,  0.0566,  0.1911,  0.2492, -0.0142,  0.2259,  0.2594,\n",
      "          0.1356,  0.1838, -0.2621,  0.0424,  0.0928]], requires_grad=True)\n",
      "output_linear.bias torch.Size([1]) Parameter containing:\n",
      "tensor([0.2453], requires_grad=True)\n"
     ]
    }
   ],
   "source": [
    "for name, param in seq_model2.named_parameters():\n",
    "    print(name, param.shape, param)"
   ]
  },
  {
   "cell_type": "code",
   "execution_count": 47,
   "metadata": {},
   "outputs": [
    {
     "data": {
      "text/plain": [
       "Parameter containing:\n",
       "tensor([-0.0764], requires_grad=True)"
      ]
     },
     "execution_count": 47,
     "metadata": {},
     "output_type": "execute_result"
    }
   ],
   "source": [
    "seq_model2.output_linear.bias"
   ]
  },
  {
   "cell_type": "code",
   "execution_count": 50,
   "metadata": {},
   "outputs": [
    {
     "name": "stdout",
     "output_type": "stream",
     "text": [
      "Epoch 1, Training loss 1.6893, Validation loss 0.5695\n",
      "Epoch 10, Training loss 1.3264, Validation loss 0.4167\n",
      "Epoch 20, Training loss 1.1034, Validation loss 0.2991\n",
      "Epoch 30, Training loss 0.9410, Validation loss 0.2031\n",
      "Epoch 40, Training loss 0.8108, Validation loss 0.1328\n",
      "Epoch 50, Training loss 0.7106, Validation loss 0.0920\n",
      "Epoch 60, Training loss 0.6339, Validation loss 0.0628\n",
      "Epoch 70, Training loss 0.5705, Validation loss 0.0407\n",
      "Epoch 80, Training loss 0.5167, Validation loss 0.0256\n",
      "Epoch 90, Training loss 0.4699, Validation loss 0.0148\n",
      "Epoch 100, Training loss 0.4278, Validation loss 0.0079\n",
      "Epoch 110, Training loss 0.3888, Validation loss 0.0042\n",
      "Epoch 120, Training loss 0.3513, Validation loss 0.0025\n",
      "Epoch 130, Training loss 0.3155, Validation loss 0.0017\n",
      "Epoch 140, Training loss 0.2829, Validation loss 0.0012\n",
      "Epoch 150, Training loss 0.2533, Validation loss 0.0009\n",
      "Epoch 160, Training loss 0.2264, Validation loss 0.0007\n",
      "Epoch 170, Training loss 0.2021, Validation loss 0.0005\n",
      "Epoch 180, Training loss 0.1806, Validation loss 0.0005\n",
      "Epoch 190, Training loss 0.1618, Validation loss 0.0008\n",
      "Epoch 200, Training loss 0.1455, Validation loss 0.0017\n",
      "Epoch 210, Training loss 0.1311, Validation loss 0.0023\n",
      "Epoch 220, Training loss 0.1185, Validation loss 0.0024\n",
      "Epoch 230, Training loss 0.1075, Validation loss 0.0025\n",
      "Epoch 240, Training loss 0.0979, Validation loss 0.0026\n",
      "Epoch 250, Training loss 0.0894, Validation loss 0.0019\n",
      "Epoch 260, Training loss 0.0817, Validation loss 0.0011\n",
      "Epoch 270, Training loss 0.0746, Validation loss 0.0007\n",
      "Epoch 280, Training loss 0.0681, Validation loss 0.0005\n",
      "Epoch 290, Training loss 0.0620, Validation loss 0.0004\n",
      "Epoch 300, Training loss 0.0565, Validation loss 0.0002\n",
      "Epoch 310, Training loss 0.0513, Validation loss 0.0002\n",
      "Epoch 320, Training loss 0.0465, Validation loss 0.0001\n",
      "Epoch 330, Training loss 0.0421, Validation loss 0.0001\n",
      "Epoch 340, Training loss 0.0381, Validation loss 0.0000\n",
      "Epoch 350, Training loss 0.0344, Validation loss 0.0000\n",
      "Epoch 360, Training loss 0.0310, Validation loss 0.0000\n",
      "Epoch 370, Training loss 0.0279, Validation loss 0.0000\n",
      "Epoch 380, Training loss 0.0250, Validation loss 0.0000\n",
      "Epoch 390, Training loss 0.0224, Validation loss 0.0000\n",
      "Epoch 400, Training loss 0.0201, Validation loss 0.0000\n",
      "Epoch 410, Training loss 0.0179, Validation loss 0.0000\n",
      "Epoch 420, Training loss 0.0160, Validation loss 0.0000\n",
      "Epoch 430, Training loss 0.0142, Validation loss 0.0000\n",
      "Epoch 440, Training loss 0.0126, Validation loss 0.0000\n",
      "Epoch 450, Training loss 0.0112, Validation loss 0.0000\n",
      "Epoch 460, Training loss 0.0099, Validation loss 0.0000\n",
      "Epoch 470, Training loss 0.0087, Validation loss 0.0000\n",
      "Epoch 480, Training loss 0.0077, Validation loss 0.0000\n",
      "Epoch 490, Training loss 0.0068, Validation loss 0.0000\n",
      "Epoch 500, Training loss 0.0060, Validation loss 0.0000\n",
      "output tensor([[-0.4875],\n",
      "        [ 0.3830],\n",
      "        [ 0.4918],\n",
      "        [-0.8139]], grad_fn=<AddmmBackward0>)\n",
      "answer tensor([[-0.4885],\n",
      "        [ 0.3800],\n",
      "        [ 0.4885],\n",
      "        [-0.8142]])\n",
      "hidden tensor([[-0.0008],\n",
      "        [-0.0003],\n",
      "        [-0.0003]]) Parameter containing:\n",
      "tensor([[-0.6089],\n",
      "        [-0.1220],\n",
      "        [-0.7210]], requires_grad=True)\n"
     ]
    }
   ],
   "source": [
    "# with sigmoid is pretty bad - it overfits easily\n",
    "# with ReLU learns a line much faster\n",
    "n_hidden = 3\n",
    "seq_model3 = nn.Sequential(OrderedDict([\n",
    "                    ('hidden_linear', nn.Linear(1, n_hidden)),\n",
    "                    ('hidden_activation', nn.ReLU()),\n",
    "                    ('output_linear', nn.Linear(n_hidden, 1))\n",
    "                    ]))\n",
    "optimizer = optim.Adam(seq_model3.parameters(), lr=1e-2) # try SGD, try other lr\n",
    "\n",
    "training_loop(n_epochs    = 500, \n",
    "                optimizer = optimizer,  \n",
    "                model     = seq_model3,\n",
    "                loss_fn   = nn.MSELoss(), \n",
    "                x_t_train = x_t_train, x_t_val= x_t_val, \n",
    "                y_t_train= y_t_train, y_t_val = y_t_val,\n",
    "                eps = 1e-3)\n",
    "\n",
    "print('output', seq_model3(x_t_val))\n",
    "print('answer', y_t_val)\n",
    "print('hidden', seq_model3.hidden_linear.weight.grad, seq_model3.hidden_linear.weight)"
   ]
  },
  {
   "cell_type": "code",
   "execution_count": 52,
   "metadata": {},
   "outputs": [
    {
     "name": "stdout",
     "output_type": "stream",
     "text": [
      "torch.Size([40, 1])\n"
     ]
    },
    {
     "data": {
      "text/plain": [
       "[<matplotlib.lines.Line2D at 0x1382c93d0>]"
      ]
     },
     "execution_count": 52,
     "metadata": {},
     "output_type": "execute_result"
    },
    {
     "data": {
      "image/png": "[encoded data removed]",
      "text/plain": [
       "<Figure size 432x288 with 1 Axes>"
      ]
     },
     "metadata": {
      "needs_background": "light"
     },
     "output_type": "display_data"
    }
   ],
   "source": [
    "from matplotlib import pyplot as plt\n",
    "x_sample = t.arange(-1.5, 2.5, 0.1).unsqueeze(1)\n",
    "print(x_sample.shape)\n",
    "#fig = plt.figure(dpi=600)\n",
    "plt.xlabel(\"x\")\n",
    "plt.ylabel(\"y\")\n",
    "plt.plot(x_n.numpy(), y_n.numpy(), 'b*')\n",
    "plt.plot(x_sample.numpy(), seq_model3(x_sample).detach().numpy(), 'c.-')\n",
    "plt.plot(x_n[train_indices].numpy(),      seq_model3(x_t_train).detach().numpy(),   'ro')\n",
    "plt.plot(x_n[val_indices].numpy(),      seq_model3(x_t_val).detach().numpy(),   'g.')\n",
    "#plt.plot()"
   ]
  },
  {
   "cell_type": "code",
   "execution_count": 48,
   "metadata": {},
   "outputs": [
    {
     "name": "stdout",
     "output_type": "stream",
     "text": [
      "torch.Size([35, 1])\n"
     ]
    },
    {
     "data": {
      "text/plain": [
       "[<matplotlib.lines.Line2D at 0x140af2278>]"
      ]
     },
     "execution_count": 48,
     "metadata": {},
     "output_type": "execute_result"
    },
    {
     "data": {
      "image/png": "[encoded data removed]",
      "image/svg+xml": "<?xml version=\"1.0\" encoding=\"utf-8\" standalone=\"no\"?>\n<!DOCTYPE svg PUBLIC \"-//W3C//DTD SVG 1.1//EN\"\n  \"http://www.w3.org/Graphics/SVG/1.1/DTD/svg11.dtd\">\n<!-- Created with matplotlib (https://matplotlib.org/) -->\n<svg height=\"262.19625pt\" version=\"1.1\" viewBox=\"0 0 382.699315 262.19625\" width=\"382.699315pt\" xmlns=\"http://www.w3.org/2000/svg\" xmlns:xlink=\"http://www.w3.org/1999/xlink\">\n <metadata>\n  <rdf:RDF xmlns:cc=\"http://creativecommons.org/ns#\" xmlns:dc=\"http://purl.org/dc/elements/1.1/\" xmlns:rdf=\"http://www.w3.org/1999/02/22-rdf-syntax-ns#\">\n   <cc:Work>\n    <dc:type rdf:resource=\"http://purl.org/dc/dcmitype/StillImage\"/>\n    <dc:date>2021-03-24T15:31:12.171242</dc:date>\n    <dc:format>image/svg+xml</dc:format>\n    <dc:creator>\n     <cc:Agent>\n      <dc:title>Matplotlib v3.3.2, https://matplotlib.org/</dc:title>\n     </cc:Agent>\n    </dc:creator>\n   </cc:Work>\n  </rdf:RDF>\n </metadata>\n <defs>\n  <style type=\"text/css\">*{stroke-linecap:butt;stroke-linejoin:round;}</style>\n </defs>\n <g id=\"figure_1\">\n  <g id=\"patch_1\">\n   <path d=\"M 0 262.19625 \nL 382.699315 262.19625 \nL 382.699315 0 \nL 0 0 \nz\n\" style=\"fill:none;\"/>\n  </g>\n  <g id=\"axes_1\">\n   <g id=\"patch_2\">\n    <path d=\"M 40.603125 224.64 \nL 375.403125 224.64 \nL 375.403125 7.2 \nL 40.603125 7.2 \nz\n\" style=\"fill:#ffffff;\"/>\n   </g>\n   <g id=\"matplotlib.axis_1\">\n    <g id=\"xtick_1\">\n     <g id=\"line2d_1\">\n      <defs>\n       <path d=\"M 0 0 \nL 0 3.5 \n\" id=\"m72fca4b839\" style=\"stroke:#000000;stroke-width:0.8;\"/>\n      </defs>\n      <g>\n       <use style=\"stroke:#000000;stroke-width:0.8;\" x=\"55.821307\" xlink:href=\"#m72fca4b839\" y=\"224.64\"/>\n      </g>\n     </g>\n     <g id=\"text_1\">\n      <!-- −5 -->\n      <g transform=\"translate(48.450213 239.238437)scale(0.1 -0.1)\">\n       <defs>\n        <path d=\"M 10.59375 35.5 \nL 73.1875 35.5 \nL 73.1875 27.203125 \nL 10.59375 27.203125 \nz\n\" id=\"DejaVuSans-8722\"/>\n        <path d=\"M 10.796875 72.90625 \nL 49.515625 72.90625 \nL 49.515625 64.59375 \nL 19.828125 64.59375 \nL 19.828125 46.734375 \nQ 21.96875 47.46875 24.109375 47.828125 \nQ 26.265625 48.1875 28.421875 48.1875 \nQ 40.625 48.1875 47.75 41.5 \nQ 54.890625 34.8125 54.890625 23.390625 \nQ 54.890625 11.625 47.5625 5.09375 \nQ 40.234375 -1.421875 26.90625 -1.421875 \nQ 22.3125 -1.421875 17.546875 -0.640625 \nQ 12.796875 0.140625 7.71875 1.703125 \nL 7.71875 11.625 \nQ 12.109375 9.234375 16.796875 8.0625 \nQ 21.484375 6.890625 26.703125 6.890625 \nQ 35.15625 6.890625 40.078125 11.328125 \nQ 45.015625 15.765625 45.015625 23.390625 \nQ 45.015625 31 40.078125 35.4375 \nQ 35.15625 39.890625 26.703125 39.890625 \nQ 22.75 39.890625 18.8125 39.015625 \nQ 14.890625 38.140625 10.796875 36.28125 \nz\n\" id=\"DejaVuSans-53\"/>\n       </defs>\n       <use xlink:href=\"#DejaVuSans-8722\"/>\n       <use x=\"83.789062\" xlink:href=\"#DejaVuSans-53\"/>\n      </g>\n     </g>\n    </g>\n    <g id=\"xtick_2\">\n     <g id=\"line2d_2\">\n      <g>\n       <use style=\"stroke:#000000;stroke-width:0.8;\" x=\"100.580665\" xlink:href=\"#m72fca4b839\" y=\"224.64\"/>\n      </g>\n     </g>\n     <g id=\"text_2\">\n      <!-- 0 -->\n      <g transform=\"translate(97.399415 239.238437)scale(0.1 -0.1)\">\n       <defs>\n        <path d=\"M 31.78125 66.40625 \nQ 24.171875 66.40625 20.328125 58.90625 \nQ 16.5 51.421875 16.5 36.375 \nQ 16.5 21.390625 20.328125 13.890625 \nQ 24.171875 6.390625 31.78125 6.390625 \nQ 39.453125 6.390625 43.28125 13.890625 \nQ 47.125 21.390625 47.125 36.375 \nQ 47.125 51.421875 43.28125 58.90625 \nQ 39.453125 66.40625 31.78125 66.40625 \nz\nM 31.78125 74.21875 \nQ 44.046875 74.21875 50.515625 64.515625 \nQ 56.984375 54.828125 56.984375 36.375 \nQ 56.984375 17.96875 50.515625 8.265625 \nQ 44.046875 -1.421875 31.78125 -1.421875 \nQ 19.53125 -1.421875 13.0625 8.265625 \nQ 6.59375 17.96875 6.59375 36.375 \nQ 6.59375 54.828125 13.0625 64.515625 \nQ 19.53125 74.21875 31.78125 74.21875 \nz\n\" id=\"DejaVuSans-48\"/>\n       </defs>\n       <use xlink:href=\"#DejaVuSans-48\"/>\n      </g>\n     </g>\n    </g>\n    <g id=\"xtick_3\">\n     <g id=\"line2d_3\">\n      <g>\n       <use style=\"stroke:#000000;stroke-width:0.8;\" x=\"145.340023\" xlink:href=\"#m72fca4b839\" y=\"224.64\"/>\n      </g>\n     </g>\n     <g id=\"text_3\">\n      <!-- 5 -->\n      <g transform=\"translate(142.158773 239.238437)scale(0.1 -0.1)\">\n       <use xlink:href=\"#DejaVuSans-53\"/>\n      </g>\n     </g>\n    </g>\n    <g id=\"xtick_4\">\n     <g id=\"line2d_4\">\n      <g>\n       <use style=\"stroke:#000000;stroke-width:0.8;\" x=\"190.099382\" xlink:href=\"#m72fca4b839\" y=\"224.64\"/>\n      </g>\n     </g>\n     <g id=\"text_4\">\n      <!-- 10 -->\n      <g transform=\"translate(183.736882 239.238437)scale(0.1 -0.1)\">\n       <defs>\n        <path d=\"M 12.40625 8.296875 \nL 28.515625 8.296875 \nL 28.515625 63.921875 \nL 10.984375 60.40625 \nL 10.984375 69.390625 \nL 28.421875 72.90625 \nL 38.28125 72.90625 \nL 38.28125 8.296875 \nL 54.390625 8.296875 \nL 54.390625 0 \nL 12.40625 0 \nz\n\" id=\"DejaVuSans-49\"/>\n       </defs>\n       <use xlink:href=\"#DejaVuSans-49\"/>\n       <use x=\"63.623047\" xlink:href=\"#DejaVuSans-48\"/>\n      </g>\n     </g>\n    </g>\n    <g id=\"xtick_5\">\n     <g id=\"line2d_5\">\n      <g>\n       <use style=\"stroke:#000000;stroke-width:0.8;\" x=\"234.85874\" xlink:href=\"#m72fca4b839\" y=\"224.64\"/>\n      </g>\n     </g>\n     <g id=\"text_5\">\n      <!-- 15 -->\n      <g transform=\"translate(228.49624 239.238437)scale(0.1 -0.1)\">\n       <use xlink:href=\"#DejaVuSans-49\"/>\n       <use x=\"63.623047\" xlink:href=\"#DejaVuSans-53\"/>\n      </g>\n     </g>\n    </g>\n    <g id=\"xtick_6\">\n     <g id=\"line2d_6\">\n      <g>\n       <use style=\"stroke:#000000;stroke-width:0.8;\" x=\"279.618098\" xlink:href=\"#m72fca4b839\" y=\"224.64\"/>\n      </g>\n     </g>\n     <g id=\"text_6\">\n      <!-- 20 -->\n      <g transform=\"translate(273.255598 239.238437)scale(0.1 -0.1)\">\n       <defs>\n        <path d=\"M 19.1875 8.296875 \nL 53.609375 8.296875 \nL 53.609375 0 \nL 7.328125 0 \nL 7.328125 8.296875 \nQ 12.9375 14.109375 22.625 23.890625 \nQ 32.328125 33.6875 34.8125 36.53125 \nQ 39.546875 41.84375 41.421875 45.53125 \nQ 43.3125 49.21875 43.3125 52.78125 \nQ 43.3125 58.59375 39.234375 62.25 \nQ 35.15625 65.921875 28.609375 65.921875 \nQ 23.96875 65.921875 18.8125 64.3125 \nQ 13.671875 62.703125 7.8125 59.421875 \nL 7.8125 69.390625 \nQ 13.765625 71.78125 18.9375 73 \nQ 24.125 74.21875 28.421875 74.21875 \nQ 39.75 74.21875 46.484375 68.546875 \nQ 53.21875 62.890625 53.21875 53.421875 \nQ 53.21875 48.921875 51.53125 44.890625 \nQ 49.859375 40.875 45.40625 35.40625 \nQ 44.1875 33.984375 37.640625 27.21875 \nQ 31.109375 20.453125 19.1875 8.296875 \nz\n\" id=\"DejaVuSans-50\"/>\n       </defs>\n       <use xlink:href=\"#DejaVuSans-50\"/>\n       <use x=\"63.623047\" xlink:href=\"#DejaVuSans-48\"/>\n      </g>\n     </g>\n    </g>\n    <g id=\"xtick_7\">\n     <g id=\"line2d_7\">\n      <g>\n       <use style=\"stroke:#000000;stroke-width:0.8;\" x=\"324.377457\" xlink:href=\"#m72fca4b839\" y=\"224.64\"/>\n      </g>\n     </g>\n     <g id=\"text_7\">\n      <!-- 25 -->\n      <g transform=\"translate(318.014957 239.238437)scale(0.1 -0.1)\">\n       <use xlink:href=\"#DejaVuSans-50\"/>\n       <use x=\"63.623047\" xlink:href=\"#DejaVuSans-53\"/>\n      </g>\n     </g>\n    </g>\n    <g id=\"xtick_8\">\n     <g id=\"line2d_8\">\n      <g>\n       <use style=\"stroke:#000000;stroke-width:0.8;\" x=\"369.136815\" xlink:href=\"#m72fca4b839\" y=\"224.64\"/>\n      </g>\n     </g>\n     <g id=\"text_8\">\n      <!-- 30 -->\n      <g transform=\"translate(362.774315 239.238437)scale(0.1 -0.1)\">\n       <defs>\n        <path d=\"M 40.578125 39.3125 \nQ 47.65625 37.796875 51.625 33 \nQ 55.609375 28.21875 55.609375 21.1875 \nQ 55.609375 10.40625 48.1875 4.484375 \nQ 40.765625 -1.421875 27.09375 -1.421875 \nQ 22.515625 -1.421875 17.65625 -0.515625 \nQ 12.796875 0.390625 7.625 2.203125 \nL 7.625 11.71875 \nQ 11.71875 9.328125 16.59375 8.109375 \nQ 21.484375 6.890625 26.8125 6.890625 \nQ 36.078125 6.890625 40.9375 10.546875 \nQ 45.796875 14.203125 45.796875 21.1875 \nQ 45.796875 27.640625 41.28125 31.265625 \nQ 36.765625 34.90625 28.71875 34.90625 \nL 20.21875 34.90625 \nL 20.21875 43.015625 \nL 29.109375 43.015625 \nQ 36.375 43.015625 40.234375 45.921875 \nQ 44.09375 48.828125 44.09375 54.296875 \nQ 44.09375 59.90625 40.109375 62.90625 \nQ 36.140625 65.921875 28.71875 65.921875 \nQ 24.65625 65.921875 20.015625 65.03125 \nQ 15.375 64.15625 9.8125 62.3125 \nL 9.8125 71.09375 \nQ 15.4375 72.65625 20.34375 73.4375 \nQ 25.25 74.21875 29.59375 74.21875 \nQ 40.828125 74.21875 47.359375 69.109375 \nQ 53.90625 64.015625 53.90625 55.328125 \nQ 53.90625 49.265625 50.4375 45.09375 \nQ 46.96875 40.921875 40.578125 39.3125 \nz\n\" id=\"DejaVuSans-51\"/>\n       </defs>\n       <use xlink:href=\"#DejaVuSans-51\"/>\n       <use x=\"63.623047\" xlink:href=\"#DejaVuSans-48\"/>\n      </g>\n     </g>\n    </g>\n    <g id=\"text_9\">\n     <!-- x -->\n     <g transform=\"translate(205.04375 252.916562)scale(0.1 -0.1)\">\n      <defs>\n       <path d=\"M 54.890625 54.6875 \nL 35.109375 28.078125 \nL 55.90625 0 \nL 45.3125 0 \nL 29.390625 21.484375 \nL 13.484375 0 \nL 2.875 0 \nL 24.125 28.609375 \nL 4.6875 54.6875 \nL 15.28125 54.6875 \nL 29.78125 35.203125 \nL 44.28125 54.6875 \nz\n\" id=\"DejaVuSans-120\"/>\n      </defs>\n      <use xlink:href=\"#DejaVuSans-120\"/>\n     </g>\n    </g>\n   </g>\n   <g id=\"matplotlib.axis_2\">\n    <g id=\"ytick_1\">\n     <g id=\"line2d_9\">\n      <defs>\n       <path d=\"M 0 0 \nL -3.5 0 \n\" id=\"m951b9ae998\" style=\"stroke:#000000;stroke-width:0.8;\"/>\n      </defs>\n      <g>\n       <use style=\"stroke:#000000;stroke-width:0.8;\" x=\"40.603125\" xlink:href=\"#m951b9ae998\" y=\"213.086661\"/>\n      </g>\n     </g>\n     <g id=\"text_10\">\n      <!-- 0 -->\n      <g transform=\"translate(27.240625 216.88588)scale(0.1 -0.1)\">\n       <use xlink:href=\"#DejaVuSans-48\"/>\n      </g>\n     </g>\n    </g>\n    <g id=\"ytick_2\">\n     <g id=\"line2d_10\">\n      <g>\n       <use style=\"stroke:#000000;stroke-width:0.8;\" x=\"40.603125\" xlink:href=\"#m951b9ae998\" y=\"165.222676\"/>\n      </g>\n     </g>\n     <g id=\"text_11\">\n      <!-- 20 -->\n      <g transform=\"translate(20.878125 169.021894)scale(0.1 -0.1)\">\n       <use xlink:href=\"#DejaVuSans-50\"/>\n       <use x=\"63.623047\" xlink:href=\"#DejaVuSans-48\"/>\n      </g>\n     </g>\n    </g>\n    <g id=\"ytick_3\">\n     <g id=\"line2d_11\">\n      <g>\n       <use style=\"stroke:#000000;stroke-width:0.8;\" x=\"40.603125\" xlink:href=\"#m951b9ae998\" y=\"117.35869\"/>\n      </g>\n     </g>\n     <g id=\"text_12\">\n      <!-- 40 -->\n      <g transform=\"translate(20.878125 121.157909)scale(0.1 -0.1)\">\n       <defs>\n        <path d=\"M 37.796875 64.3125 \nL 12.890625 25.390625 \nL 37.796875 25.390625 \nz\nM 35.203125 72.90625 \nL 47.609375 72.90625 \nL 47.609375 25.390625 \nL 58.015625 25.390625 \nL 58.015625 17.1875 \nL 47.609375 17.1875 \nL 47.609375 0 \nL 37.796875 0 \nL 37.796875 17.1875 \nL 4.890625 17.1875 \nL 4.890625 26.703125 \nz\n\" id=\"DejaVuSans-52\"/>\n       </defs>\n       <use xlink:href=\"#DejaVuSans-52\"/>\n       <use x=\"63.623047\" xlink:href=\"#DejaVuSans-48\"/>\n      </g>\n     </g>\n    </g>\n    <g id=\"ytick_4\">\n     <g id=\"line2d_12\">\n      <g>\n       <use style=\"stroke:#000000;stroke-width:0.8;\" x=\"40.603125\" xlink:href=\"#m951b9ae998\" y=\"69.494704\"/>\n      </g>\n     </g>\n     <g id=\"text_13\">\n      <!-- 60 -->\n      <g transform=\"translate(20.878125 73.293923)scale(0.1 -0.1)\">\n       <defs>\n        <path d=\"M 33.015625 40.375 \nQ 26.375 40.375 22.484375 35.828125 \nQ 18.609375 31.296875 18.609375 23.390625 \nQ 18.609375 15.53125 22.484375 10.953125 \nQ 26.375 6.390625 33.015625 6.390625 \nQ 39.65625 6.390625 43.53125 10.953125 \nQ 47.40625 15.53125 47.40625 23.390625 \nQ 47.40625 31.296875 43.53125 35.828125 \nQ 39.65625 40.375 33.015625 40.375 \nz\nM 52.59375 71.296875 \nL 52.59375 62.3125 \nQ 48.875 64.0625 45.09375 64.984375 \nQ 41.3125 65.921875 37.59375 65.921875 \nQ 27.828125 65.921875 22.671875 59.328125 \nQ 17.53125 52.734375 16.796875 39.40625 \nQ 19.671875 43.65625 24.015625 45.921875 \nQ 28.375 48.1875 33.59375 48.1875 \nQ 44.578125 48.1875 50.953125 41.515625 \nQ 57.328125 34.859375 57.328125 23.390625 \nQ 57.328125 12.15625 50.6875 5.359375 \nQ 44.046875 -1.421875 33.015625 -1.421875 \nQ 20.359375 -1.421875 13.671875 8.265625 \nQ 6.984375 17.96875 6.984375 36.375 \nQ 6.984375 53.65625 15.1875 63.9375 \nQ 23.390625 74.21875 37.203125 74.21875 \nQ 40.921875 74.21875 44.703125 73.484375 \nQ 48.484375 72.75 52.59375 71.296875 \nz\n\" id=\"DejaVuSans-54\"/>\n       </defs>\n       <use xlink:href=\"#DejaVuSans-54\"/>\n       <use x=\"63.623047\" xlink:href=\"#DejaVuSans-48\"/>\n      </g>\n     </g>\n    </g>\n    <g id=\"ytick_5\">\n     <g id=\"line2d_13\">\n      <g>\n       <use style=\"stroke:#000000;stroke-width:0.8;\" x=\"40.603125\" xlink:href=\"#m951b9ae998\" y=\"21.630719\"/>\n      </g>\n     </g>\n     <g id=\"text_14\">\n      <!-- 80 -->\n      <g transform=\"translate(20.878125 25.429937)scale(0.1 -0.1)\">\n       <defs>\n        <path d=\"M 31.78125 34.625 \nQ 24.75 34.625 20.71875 30.859375 \nQ 16.703125 27.09375 16.703125 20.515625 \nQ 16.703125 13.921875 20.71875 10.15625 \nQ 24.75 6.390625 31.78125 6.390625 \nQ 38.8125 6.390625 42.859375 10.171875 \nQ 46.921875 13.96875 46.921875 20.515625 \nQ 46.921875 27.09375 42.890625 30.859375 \nQ 38.875 34.625 31.78125 34.625 \nz\nM 21.921875 38.8125 \nQ 15.578125 40.375 12.03125 44.71875 \nQ 8.5 49.078125 8.5 55.328125 \nQ 8.5 64.0625 14.71875 69.140625 \nQ 20.953125 74.21875 31.78125 74.21875 \nQ 42.671875 74.21875 48.875 69.140625 \nQ 55.078125 64.0625 55.078125 55.328125 \nQ 55.078125 49.078125 51.53125 44.71875 \nQ 48 40.375 41.703125 38.8125 \nQ 48.828125 37.15625 52.796875 32.3125 \nQ 56.78125 27.484375 56.78125 20.515625 \nQ 56.78125 9.90625 50.3125 4.234375 \nQ 43.84375 -1.421875 31.78125 -1.421875 \nQ 19.734375 -1.421875 13.25 4.234375 \nQ 6.78125 9.90625 6.78125 20.515625 \nQ 6.78125 27.484375 10.78125 32.3125 \nQ 14.796875 37.15625 21.921875 38.8125 \nz\nM 18.3125 54.390625 \nQ 18.3125 48.734375 21.84375 45.5625 \nQ 25.390625 42.390625 31.78125 42.390625 \nQ 38.140625 42.390625 41.71875 45.5625 \nQ 45.3125 48.734375 45.3125 54.390625 \nQ 45.3125 60.0625 41.71875 63.234375 \nQ 38.140625 66.40625 31.78125 66.40625 \nQ 25.390625 66.40625 21.84375 63.234375 \nQ 18.3125 60.0625 18.3125 54.390625 \nz\n\" id=\"DejaVuSans-56\"/>\n       </defs>\n       <use xlink:href=\"#DejaVuSans-56\"/>\n       <use x=\"63.623047\" xlink:href=\"#DejaVuSans-48\"/>\n      </g>\n     </g>\n    </g>\n    <g id=\"text_15\">\n     <!-- y -->\n     <g transform=\"translate(14.798438 118.879375)rotate(-90)scale(0.1 -0.1)\">\n      <defs>\n       <path d=\"M 32.171875 -5.078125 \nQ 28.375 -14.84375 24.75 -17.8125 \nQ 21.140625 -20.796875 15.09375 -20.796875 \nL 7.90625 -20.796875 \nL 7.90625 -13.28125 \nL 13.1875 -13.28125 \nQ 16.890625 -13.28125 18.9375 -11.515625 \nQ 21 -9.765625 23.484375 -3.21875 \nL 25.09375 0.875 \nL 2.984375 54.6875 \nL 12.5 54.6875 \nL 29.59375 11.921875 \nL 46.6875 54.6875 \nL 56.203125 54.6875 \nz\n\" id=\"DejaVuSans-121\"/>\n      </defs>\n      <use xlink:href=\"#DejaVuSans-121\"/>\n     </g>\n    </g>\n   </g>\n   <g id=\"line2d_14\">\n    <defs>\n     <path d=\"M 0 -3 \nL -0.673542 -0.927051 \nL -2.85317 -0.927051 \nL -1.089814 0.354102 \nL -1.763356 2.427051 \nL -0 1.145898 \nL 1.763356 2.427051 \nL 1.089814 0.354102 \nL 2.85317 -0.927051 \nL 0.673542 -0.927051 \nz\n\" id=\"m60b0b62f24\" style=\"stroke:#0000ff;stroke-linejoin:bevel;\"/>\n    </defs>\n    <g clip-path=\"url(#p4c3db5e38a)\">\n     <use style=\"fill:#0000ff;stroke:#0000ff;stroke-linejoin:bevel;\" x=\"105.056601\" xlink:href=\"#m60b0b62f24\" y=\"127.649445\"/>\n     <use style=\"fill:#0000ff;stroke:#0000ff;stroke-linejoin:bevel;\" x=\"225.906868\" xlink:href=\"#m60b0b62f24\" y=\"79.306818\"/>\n     <use style=\"fill:#0000ff;stroke:#0000ff;stroke-linejoin:bevel;\" x=\"234.85874\" xlink:href=\"#m60b0b62f24\" y=\"73.802461\"/>\n     <use style=\"fill:#0000ff;stroke:#0000ff;stroke-linejoin:bevel;\" x=\"351.233072\" xlink:href=\"#m60b0b62f24\" y=\"17.083636\"/>\n     <use style=\"fill:#0000ff;stroke:#0000ff;stroke-linejoin:bevel;\" x=\"199.051253\" xlink:href=\"#m60b0b62f24\" y=\"78.349544\"/>\n     <use style=\"fill:#0000ff;stroke:#0000ff;stroke-linejoin:bevel;\" x=\"172.195638\" xlink:href=\"#m60b0b62f24\" y=\"96.059213\"/>\n     <use style=\"fill:#0000ff;stroke:#0000ff;stroke-linejoin:bevel;\" x=\"127.43628\" xlink:href=\"#m60b0b62f24\" y=\"131.957202\"/>\n     <use style=\"fill:#0000ff;stroke:#0000ff;stroke-linejoin:bevel;\" x=\"64.773178\" xlink:href=\"#m60b0b62f24\" y=\"160.914919\"/>\n     <use style=\"fill:#0000ff;stroke:#0000ff;stroke-linejoin:bevel;\" x=\"154.291895\" xlink:href=\"#m60b0b62f24\" y=\"97.255812\"/>\n     <use style=\"fill:#0000ff;stroke:#0000ff;stroke-linejoin:bevel;\" x=\"216.954997\" xlink:href=\"#m60b0b62f24\" y=\"68.537421\"/>\n     <use style=\"fill:#0000ff;stroke:#0000ff;stroke-linejoin:bevel;\" x=\"288.56997\" xlink:href=\"#m60b0b62f24\" y=\"49.391827\"/>\n    </g>\n   </g>\n   <g id=\"line2d_15\">\n    <path clip-path=\"url(#p4c3db5e38a)\" d=\"M 55.821307 214.756364 \nL 64.773178 214.724674 \nL 73.72505 214.58789 \nL 82.676922 214.20466 \nL 91.628793 213.506007 \nL 100.580665 212.648563 \nL 109.532537 212.044607 \nL 118.484408 211.851883 \nL 127.43628 211.815018 \nL 136.388152 211.81889 \nL 145.340023 211.82956 \nL 154.291895 211.837048 \nL 163.243767 211.839756 \nL 172.195638 211.838788 \nL 181.14751 211.835703 \nL 190.099382 211.831753 \nL 199.051253 211.827739 \nL 208.003125 211.824083 \nL 216.954997 211.820963 \nL 225.906868 211.818407 \nL 234.85874 211.81637 \nL 243.810612 211.814778 \nL 252.762483 211.813553 \nL 261.714355 211.812619 \nL 270.666227 211.811913 \nL 279.618098 211.811382 \nL 288.56997 211.810986 \nL 297.521842 211.810691 \nL 306.473713 211.810472 \nL 315.425585 211.81031 \nL 324.377457 211.810191 \nL 333.329328 211.810103 \nL 342.2812 211.810038 \nL 351.233072 211.809991 \nL 360.184943 211.809956 \n\" style=\"fill:none;stroke:#00bfbf;stroke-linecap:square;stroke-width:1.5;\"/>\n   </g>\n   <g id=\"line2d_16\">\n    <defs>\n     <path d=\"M 0 3 \nC 0.795609 3 1.55874 2.683901 2.12132 2.12132 \nC 2.683901 1.55874 3 0.795609 3 0 \nC 3 -0.795609 2.683901 -1.55874 2.12132 -2.12132 \nC 1.55874 -2.683901 0.795609 -3 0 -3 \nC -0.795609 -3 -1.55874 -2.683901 -2.12132 -2.12132 \nC -2.683901 -1.55874 -3 -0.795609 -3 0 \nC -3 0.795609 -2.683901 1.55874 -2.12132 2.12132 \nC -1.55874 2.683901 -0.795609 3 0 3 \nz\n\" id=\"m2269c71b97\" style=\"stroke:#ff0000;\"/>\n    </defs>\n    <g clip-path=\"url(#p4c3db5e38a)\">\n     <use style=\"fill:#ff0000;stroke:#ff0000;\" x=\"105.056601\" xlink:href=\"#m2269c71b97\" y=\"212.28438\"/>\n     <use style=\"fill:#ff0000;stroke:#ff0000;\" x=\"225.906868\" xlink:href=\"#m2269c71b97\" y=\"211.818407\"/>\n     <use style=\"fill:#ff0000;stroke:#ff0000;\" x=\"234.85874\" xlink:href=\"#m2269c71b97\" y=\"211.81637\"/>\n     <use style=\"fill:#ff0000;stroke:#ff0000;\" x=\"351.233072\" xlink:href=\"#m2269c71b97\" y=\"211.809991\"/>\n     <use style=\"fill:#ff0000;stroke:#ff0000;\" x=\"199.051253\" xlink:href=\"#m2269c71b97\" y=\"211.827739\"/>\n     <use style=\"fill:#ff0000;stroke:#ff0000;\" x=\"172.195638\" xlink:href=\"#m2269c71b97\" y=\"211.838788\"/>\n     <use style=\"fill:#ff0000;stroke:#ff0000;\" x=\"127.43628\" xlink:href=\"#m2269c71b97\" y=\"211.815018\"/>\n     <use style=\"fill:#ff0000;stroke:#ff0000;\" x=\"64.773178\" xlink:href=\"#m2269c71b97\" y=\"214.724674\"/>\n     <use style=\"fill:#ff0000;stroke:#ff0000;\" x=\"154.291895\" xlink:href=\"#m2269c71b97\" y=\"211.837048\"/>\n     <use style=\"fill:#ff0000;stroke:#ff0000;\" x=\"216.954997\" xlink:href=\"#m2269c71b97\" y=\"211.820963\"/>\n     <use style=\"fill:#ff0000;stroke:#ff0000;\" x=\"288.56997\" xlink:href=\"#m2269c71b97\" y=\"211.810986\"/>\n    </g>\n   </g>\n   <g id=\"patch_3\">\n    <path d=\"M 40.603125 224.64 \nL 40.603125 7.2 \n\" style=\"fill:none;stroke:#000000;stroke-linecap:square;stroke-linejoin:miter;stroke-width:0.8;\"/>\n   </g>\n   <g id=\"patch_4\">\n    <path d=\"M 375.403125 224.64 \nL 375.403125 7.2 \n\" style=\"fill:none;stroke:#000000;stroke-linecap:square;stroke-linejoin:miter;stroke-width:0.8;\"/>\n   </g>\n   <g id=\"patch_5\">\n    <path d=\"M 40.603125 224.64 \nL 375.403125 224.64 \n\" style=\"fill:none;stroke:#000000;stroke-linecap:square;stroke-linejoin:miter;stroke-width:0.8;\"/>\n   </g>\n   <g id=\"patch_6\">\n    <path d=\"M 40.603125 7.2 \nL 375.403125 7.2 \n\" style=\"fill:none;stroke:#000000;stroke-linecap:square;stroke-linejoin:miter;stroke-width:0.8;\"/>\n   </g>\n  </g>\n </g>\n <defs>\n  <clipPath id=\"p4c3db5e38a\">\n   <rect height=\"217.44\" width=\"334.8\" x=\"40.603125\" y=\"7.2\"/>\n  </clipPath>\n </defs>\n</svg>\n",
      "text/plain": [
       "<Figure size 432x288 with 1 Axes>"
      ]
     },
     "metadata": {
      "needs_background": "light"
     },
     "output_type": "display_data"
    }
   ],
   "source": [
    "\n",
    "from matplotlib import pyplot as plt\n",
    "x_sample = t.arange(-5., 30.).unsqueeze(1)\n",
    "print(x_sample.shape)\n",
    "#fig = plt.figure(dpi=600)\n",
    "plt.xlabel(\"x\")\n",
    "plt.ylabel(\"y\")\n",
    "plt.plot(x_t.numpy(), y_t.numpy(), 'b*')\n",
    "plt.plot(x_sample.numpy(), seq_model2(x_sample).detach().numpy(), 'c-')\n",
    "plt.plot(x_t.numpy(),      seq_model2(x_t_2d).detach().numpy(),   'ro')"
   ]
  },
  {
   "cell_type": "code",
   "execution_count": 88,
   "metadata": {},
   "outputs": [
    {
     "name": "stdout",
     "output_type": "stream",
     "text": [
      "Epoch 1, Training loss 2901.1304, Validation loss 3336.4207\n",
      "Epoch 1000, Training loss 1363.0632, Validation loss 1539.1550\n",
      "Epoch 2000, Training loss 631.9279, Validation loss 632.0193\n",
      "Epoch 3000, Training loss 319.8688, Validation loss 224.0979\n",
      "Epoch 4000, Training loss 143.2617, Validation loss 68.7979\n",
      "Epoch 5000, Training loss 72.7018, Validation loss 18.4440\n",
      "Epoch 6000, Training loss 40.2303, Validation loss 6.6396\n",
      "Epoch 7000, Training loss 23.2064, Validation loss 6.6893\n",
      "Epoch 8000, Training loss 14.5123, Validation loss 9.8854\n",
      "Epoch 9000, Training loss 10.4630, Validation loss 12.8697\n",
      "Epoch 10000, Training loss 8.8152, Validation loss 14.7994\n",
      "output tensor([[0.5330],\n",
      "        [0.5222],\n",
      "        [0.5308],\n",
      "        [0.5214]], grad_fn=<AddmmBackward>)\n",
      "answer tensor([[68.4000],\n",
      "        [48.4000],\n",
      "        [58.2000],\n",
      "        [48.9000]])\n"
     ]
    }
   ],
   "source": [
    "n_hidden1 = 2\n",
    "#n_hidden2 = 2\n",
    "seq_model3 = nn.Sequential(OrderedDict([\n",
    "                    ('hidden_linear1',   nn.Linear(1, n_hidden1)),\n",
    "                    ('hidden_activation1', nn.ReLU()),\n",
    "                    #('hidden_linear2', nn.Linear(n_hidden1, n_hidden2)),\n",
    "                    #('hidden_activation2', nn.Sigmoid()),\n",
    "                    ('output_linear', nn.Linear(n_hidden1, 1))\n",
    "                    ]))\n",
    "optimizer = optim.Adam(seq_model3.parameters(), lr=1e-2) # try SGD, SGD+momentum try other lr\n",
    "\n",
    "training_loop(n_epochs    = 10000, \n",
    "                optimizer = optimizer,  \n",
    "                model     = seq_model3,\n",
    "                loss_fn   = nn.MSELoss(), \n",
    "                x_t_train = x_t_train, x_t_val= x_t_val, \n",
    "                y_t_train= y_t_train, y_t_val = y_t_val)\n",
    "\n",
    "print('output', seq_model2(x_t_val))\n",
    "print('answer', y_t_val)\n",
    "#print('hidden', seq_model3.hidden_linear1.weight.grad, seq_model3.hidden_linear2.weight.grad)"
   ]
  },
  {
   "cell_type": "code",
   "execution_count": 90,
   "metadata": {},
   "outputs": [
    {
     "name": "stdout",
     "output_type": "stream",
     "text": [
      "torch.Size([35, 1])\n"
     ]
    },
    {
     "data": {
      "text/plain": [
       "[<matplotlib.lines.Line2D at 0x14076e8d0>]"
      ]
     },
     "execution_count": 90,
     "metadata": {},
     "output_type": "execute_result"
    },
    {
     "data": {
      "image/png": "[encoded data removed]",
      "image/svg+xml": "<?xml version=\"1.0\" encoding=\"utf-8\" standalone=\"no\"?>\n<!DOCTYPE svg PUBLIC \"-//W3C//DTD SVG 1.1//EN\"\n  \"http://www.w3.org/Graphics/SVG/1.1/DTD/svg11.dtd\">\n<!-- Created with matplotlib (https://matplotlib.org/) -->\n<svg height=\"262.19625pt\" version=\"1.1\" viewBox=\"0 0 382.699315 262.19625\" width=\"382.699315pt\" xmlns=\"http://www.w3.org/2000/svg\" xmlns:xlink=\"http://www.w3.org/1999/xlink\">\n <metadata>\n  <rdf:RDF xmlns:cc=\"http://creativecommons.org/ns#\" xmlns:dc=\"http://purl.org/dc/elements/1.1/\" xmlns:rdf=\"http://www.w3.org/1999/02/22-rdf-syntax-ns#\">\n   <cc:Work>\n    <dc:type rdf:resource=\"http://purl.org/dc/dcmitype/StillImage\"/>\n    <dc:date>2021-03-24T15:52:28.914336</dc:date>\n    <dc:format>image/svg+xml</dc:format>\n    <dc:creator>\n     <cc:Agent>\n      <dc:title>Matplotlib v3.3.2, https://matplotlib.org/</dc:title>\n     </cc:Agent>\n    </dc:creator>\n   </cc:Work>\n  </rdf:RDF>\n </metadata>\n <defs>\n  <style type=\"text/css\">*{stroke-linecap:butt;stroke-linejoin:round;}</style>\n </defs>\n <g id=\"figure_1\">\n  <g id=\"patch_1\">\n   <path d=\"M 0 262.19625 \nL 382.699315 262.19625 \nL 382.699315 0 \nL 0 0 \nz\n\" style=\"fill:none;\"/>\n  </g>\n  <g id=\"axes_1\">\n   <g id=\"patch_2\">\n    <path d=\"M 40.603125 224.64 \nL 375.403125 224.64 \nL 375.403125 7.2 \nL 40.603125 7.2 \nz\n\" style=\"fill:#ffffff;\"/>\n   </g>\n   <g id=\"matplotlib.axis_1\">\n    <g id=\"xtick_1\">\n     <g id=\"line2d_1\">\n      <defs>\n       <path d=\"M 0 0 \nL 0 3.5 \n\" id=\"m80e70f6fc2\" style=\"stroke:#000000;stroke-width:0.8;\"/>\n      </defs>\n      <g>\n       <use style=\"stroke:#000000;stroke-width:0.8;\" x=\"55.821307\" xlink:href=\"#m80e70f6fc2\" y=\"224.64\"/>\n      </g>\n     </g>\n     <g id=\"text_1\">\n      <!-- −5 -->\n      <g transform=\"translate(48.450213 239.238437)scale(0.1 -0.1)\">\n       <defs>\n        <path d=\"M 10.59375 35.5 \nL 73.1875 35.5 \nL 73.1875 27.203125 \nL 10.59375 27.203125 \nz\n\" id=\"DejaVuSans-8722\"/>\n        <path d=\"M 10.796875 72.90625 \nL 49.515625 72.90625 \nL 49.515625 64.59375 \nL 19.828125 64.59375 \nL 19.828125 46.734375 \nQ 21.96875 47.46875 24.109375 47.828125 \nQ 26.265625 48.1875 28.421875 48.1875 \nQ 40.625 48.1875 47.75 41.5 \nQ 54.890625 34.8125 54.890625 23.390625 \nQ 54.890625 11.625 47.5625 5.09375 \nQ 40.234375 -1.421875 26.90625 -1.421875 \nQ 22.3125 -1.421875 17.546875 -0.640625 \nQ 12.796875 0.140625 7.71875 1.703125 \nL 7.71875 11.625 \nQ 12.109375 9.234375 16.796875 8.0625 \nQ 21.484375 6.890625 26.703125 6.890625 \nQ 35.15625 6.890625 40.078125 11.328125 \nQ 45.015625 15.765625 45.015625 23.390625 \nQ 45.015625 31 40.078125 35.4375 \nQ 35.15625 39.890625 26.703125 39.890625 \nQ 22.75 39.890625 18.8125 39.015625 \nQ 14.890625 38.140625 10.796875 36.28125 \nz\n\" id=\"DejaVuSans-53\"/>\n       </defs>\n       <use xlink:href=\"#DejaVuSans-8722\"/>\n       <use x=\"83.789062\" xlink:href=\"#DejaVuSans-53\"/>\n      </g>\n     </g>\n    </g>\n    <g id=\"xtick_2\">\n     <g id=\"line2d_2\">\n      <g>\n       <use style=\"stroke:#000000;stroke-width:0.8;\" x=\"100.580665\" xlink:href=\"#m80e70f6fc2\" y=\"224.64\"/>\n      </g>\n     </g>\n     <g id=\"text_2\">\n      <!-- 0 -->\n      <g transform=\"translate(97.399415 239.238437)scale(0.1 -0.1)\">\n       <defs>\n        <path d=\"M 31.78125 66.40625 \nQ 24.171875 66.40625 20.328125 58.90625 \nQ 16.5 51.421875 16.5 36.375 \nQ 16.5 21.390625 20.328125 13.890625 \nQ 24.171875 6.390625 31.78125 6.390625 \nQ 39.453125 6.390625 43.28125 13.890625 \nQ 47.125 21.390625 47.125 36.375 \nQ 47.125 51.421875 43.28125 58.90625 \nQ 39.453125 66.40625 31.78125 66.40625 \nz\nM 31.78125 74.21875 \nQ 44.046875 74.21875 50.515625 64.515625 \nQ 56.984375 54.828125 56.984375 36.375 \nQ 56.984375 17.96875 50.515625 8.265625 \nQ 44.046875 -1.421875 31.78125 -1.421875 \nQ 19.53125 -1.421875 13.0625 8.265625 \nQ 6.59375 17.96875 6.59375 36.375 \nQ 6.59375 54.828125 13.0625 64.515625 \nQ 19.53125 74.21875 31.78125 74.21875 \nz\n\" id=\"DejaVuSans-48\"/>\n       </defs>\n       <use xlink:href=\"#DejaVuSans-48\"/>\n      </g>\n     </g>\n    </g>\n    <g id=\"xtick_3\">\n     <g id=\"line2d_3\">\n      <g>\n       <use style=\"stroke:#000000;stroke-width:0.8;\" x=\"145.340023\" xlink:href=\"#m80e70f6fc2\" y=\"224.64\"/>\n      </g>\n     </g>\n     <g id=\"text_3\">\n      <!-- 5 -->\n      <g transform=\"translate(142.158773 239.238437)scale(0.1 -0.1)\">\n       <use xlink:href=\"#DejaVuSans-53\"/>\n      </g>\n     </g>\n    </g>\n    <g id=\"xtick_4\">\n     <g id=\"line2d_4\">\n      <g>\n       <use style=\"stroke:#000000;stroke-width:0.8;\" x=\"190.099382\" xlink:href=\"#m80e70f6fc2\" y=\"224.64\"/>\n      </g>\n     </g>\n     <g id=\"text_4\">\n      <!-- 10 -->\n      <g transform=\"translate(183.736882 239.238437)scale(0.1 -0.1)\">\n       <defs>\n        <path d=\"M 12.40625 8.296875 \nL 28.515625 8.296875 \nL 28.515625 63.921875 \nL 10.984375 60.40625 \nL 10.984375 69.390625 \nL 28.421875 72.90625 \nL 38.28125 72.90625 \nL 38.28125 8.296875 \nL 54.390625 8.296875 \nL 54.390625 0 \nL 12.40625 0 \nz\n\" id=\"DejaVuSans-49\"/>\n       </defs>\n       <use xlink:href=\"#DejaVuSans-49\"/>\n       <use x=\"63.623047\" xlink:href=\"#DejaVuSans-48\"/>\n      </g>\n     </g>\n    </g>\n    <g id=\"xtick_5\">\n     <g id=\"line2d_5\">\n      <g>\n       <use style=\"stroke:#000000;stroke-width:0.8;\" x=\"234.85874\" xlink:href=\"#m80e70f6fc2\" y=\"224.64\"/>\n      </g>\n     </g>\n     <g id=\"text_5\">\n      <!-- 15 -->\n      <g transform=\"translate(228.49624 239.238437)scale(0.1 -0.1)\">\n       <use xlink:href=\"#DejaVuSans-49\"/>\n       <use x=\"63.623047\" xlink:href=\"#DejaVuSans-53\"/>\n      </g>\n     </g>\n    </g>\n    <g id=\"xtick_6\">\n     <g id=\"line2d_6\">\n      <g>\n       <use style=\"stroke:#000000;stroke-width:0.8;\" x=\"279.618098\" xlink:href=\"#m80e70f6fc2\" y=\"224.64\"/>\n      </g>\n     </g>\n     <g id=\"text_6\">\n      <!-- 20 -->\n      <g transform=\"translate(273.255598 239.238437)scale(0.1 -0.1)\">\n       <defs>\n        <path d=\"M 19.1875 8.296875 \nL 53.609375 8.296875 \nL 53.609375 0 \nL 7.328125 0 \nL 7.328125 8.296875 \nQ 12.9375 14.109375 22.625 23.890625 \nQ 32.328125 33.6875 34.8125 36.53125 \nQ 39.546875 41.84375 41.421875 45.53125 \nQ 43.3125 49.21875 43.3125 52.78125 \nQ 43.3125 58.59375 39.234375 62.25 \nQ 35.15625 65.921875 28.609375 65.921875 \nQ 23.96875 65.921875 18.8125 64.3125 \nQ 13.671875 62.703125 7.8125 59.421875 \nL 7.8125 69.390625 \nQ 13.765625 71.78125 18.9375 73 \nQ 24.125 74.21875 28.421875 74.21875 \nQ 39.75 74.21875 46.484375 68.546875 \nQ 53.21875 62.890625 53.21875 53.421875 \nQ 53.21875 48.921875 51.53125 44.890625 \nQ 49.859375 40.875 45.40625 35.40625 \nQ 44.1875 33.984375 37.640625 27.21875 \nQ 31.109375 20.453125 19.1875 8.296875 \nz\n\" id=\"DejaVuSans-50\"/>\n       </defs>\n       <use xlink:href=\"#DejaVuSans-50\"/>\n       <use x=\"63.623047\" xlink:href=\"#DejaVuSans-48\"/>\n      </g>\n     </g>\n    </g>\n    <g id=\"xtick_7\">\n     <g id=\"line2d_7\">\n      <g>\n       <use style=\"stroke:#000000;stroke-width:0.8;\" x=\"324.377457\" xlink:href=\"#m80e70f6fc2\" y=\"224.64\"/>\n      </g>\n     </g>\n     <g id=\"text_7\">\n      <!-- 25 -->\n      <g transform=\"translate(318.014957 239.238437)scale(0.1 -0.1)\">\n       <use xlink:href=\"#DejaVuSans-50\"/>\n       <use x=\"63.623047\" xlink:href=\"#DejaVuSans-53\"/>\n      </g>\n     </g>\n    </g>\n    <g id=\"xtick_8\">\n     <g id=\"line2d_8\">\n      <g>\n       <use style=\"stroke:#000000;stroke-width:0.8;\" x=\"369.136815\" xlink:href=\"#m80e70f6fc2\" y=\"224.64\"/>\n      </g>\n     </g>\n     <g id=\"text_8\">\n      <!-- 30 -->\n      <g transform=\"translate(362.774315 239.238437)scale(0.1 -0.1)\">\n       <defs>\n        <path d=\"M 40.578125 39.3125 \nQ 47.65625 37.796875 51.625 33 \nQ 55.609375 28.21875 55.609375 21.1875 \nQ 55.609375 10.40625 48.1875 4.484375 \nQ 40.765625 -1.421875 27.09375 -1.421875 \nQ 22.515625 -1.421875 17.65625 -0.515625 \nQ 12.796875 0.390625 7.625 2.203125 \nL 7.625 11.71875 \nQ 11.71875 9.328125 16.59375 8.109375 \nQ 21.484375 6.890625 26.8125 6.890625 \nQ 36.078125 6.890625 40.9375 10.546875 \nQ 45.796875 14.203125 45.796875 21.1875 \nQ 45.796875 27.640625 41.28125 31.265625 \nQ 36.765625 34.90625 28.71875 34.90625 \nL 20.21875 34.90625 \nL 20.21875 43.015625 \nL 29.109375 43.015625 \nQ 36.375 43.015625 40.234375 45.921875 \nQ 44.09375 48.828125 44.09375 54.296875 \nQ 44.09375 59.90625 40.109375 62.90625 \nQ 36.140625 65.921875 28.71875 65.921875 \nQ 24.65625 65.921875 20.015625 65.03125 \nQ 15.375 64.15625 9.8125 62.3125 \nL 9.8125 71.09375 \nQ 15.4375 72.65625 20.34375 73.4375 \nQ 25.25 74.21875 29.59375 74.21875 \nQ 40.828125 74.21875 47.359375 69.109375 \nQ 53.90625 64.015625 53.90625 55.328125 \nQ 53.90625 49.265625 50.4375 45.09375 \nQ 46.96875 40.921875 40.578125 39.3125 \nz\n\" id=\"DejaVuSans-51\"/>\n       </defs>\n       <use xlink:href=\"#DejaVuSans-51\"/>\n       <use x=\"63.623047\" xlink:href=\"#DejaVuSans-48\"/>\n      </g>\n     </g>\n    </g>\n    <g id=\"text_9\">\n     <!-- x -->\n     <g transform=\"translate(205.04375 252.916562)scale(0.1 -0.1)\">\n      <defs>\n       <path d=\"M 54.890625 54.6875 \nL 35.109375 28.078125 \nL 55.90625 0 \nL 45.3125 0 \nL 29.390625 21.484375 \nL 13.484375 0 \nL 2.875 0 \nL 24.125 28.609375 \nL 4.6875 54.6875 \nL 15.28125 54.6875 \nL 29.78125 35.203125 \nL 44.28125 54.6875 \nz\n\" id=\"DejaVuSans-120\"/>\n      </defs>\n      <use xlink:href=\"#DejaVuSans-120\"/>\n     </g>\n    </g>\n   </g>\n   <g id=\"matplotlib.axis_2\">\n    <g id=\"ytick_1\">\n     <g id=\"line2d_9\">\n      <defs>\n       <path d=\"M 0 0 \nL -3.5 0 \n\" id=\"meb3c3f76cf\" style=\"stroke:#000000;stroke-width:0.8;\"/>\n      </defs>\n      <g>\n       <use style=\"stroke:#000000;stroke-width:0.8;\" x=\"40.603125\" xlink:href=\"#meb3c3f76cf\" y=\"219.16019\"/>\n      </g>\n     </g>\n     <g id=\"text_10\">\n      <!-- 20 -->\n      <g transform=\"translate(20.878125 222.959408)scale(0.1 -0.1)\">\n       <use xlink:href=\"#DejaVuSans-50\"/>\n       <use x=\"63.623047\" xlink:href=\"#DejaVuSans-48\"/>\n      </g>\n     </g>\n    </g>\n    <g id=\"ytick_2\">\n     <g id=\"line2d_10\">\n      <g>\n       <use style=\"stroke:#000000;stroke-width:0.8;\" x=\"40.603125\" xlink:href=\"#meb3c3f76cf\" y=\"186.514544\"/>\n      </g>\n     </g>\n     <g id=\"text_11\">\n      <!-- 30 -->\n      <g transform=\"translate(20.878125 190.313762)scale(0.1 -0.1)\">\n       <use xlink:href=\"#DejaVuSans-51\"/>\n       <use x=\"63.623047\" xlink:href=\"#DejaVuSans-48\"/>\n      </g>\n     </g>\n    </g>\n    <g id=\"ytick_3\">\n     <g id=\"line2d_11\">\n      <g>\n       <use style=\"stroke:#000000;stroke-width:0.8;\" x=\"40.603125\" xlink:href=\"#meb3c3f76cf\" y=\"153.868898\"/>\n      </g>\n     </g>\n     <g id=\"text_12\">\n      <!-- 40 -->\n      <g transform=\"translate(20.878125 157.668116)scale(0.1 -0.1)\">\n       <defs>\n        <path d=\"M 37.796875 64.3125 \nL 12.890625 25.390625 \nL 37.796875 25.390625 \nz\nM 35.203125 72.90625 \nL 47.609375 72.90625 \nL 47.609375 25.390625 \nL 58.015625 25.390625 \nL 58.015625 17.1875 \nL 47.609375 17.1875 \nL 47.609375 0 \nL 37.796875 0 \nL 37.796875 17.1875 \nL 4.890625 17.1875 \nL 4.890625 26.703125 \nz\n\" id=\"DejaVuSans-52\"/>\n       </defs>\n       <use xlink:href=\"#DejaVuSans-52\"/>\n       <use x=\"63.623047\" xlink:href=\"#DejaVuSans-48\"/>\n      </g>\n     </g>\n    </g>\n    <g id=\"ytick_4\">\n     <g id=\"line2d_12\">\n      <g>\n       <use style=\"stroke:#000000;stroke-width:0.8;\" x=\"40.603125\" xlink:href=\"#meb3c3f76cf\" y=\"121.223252\"/>\n      </g>\n     </g>\n     <g id=\"text_13\">\n      <!-- 50 -->\n      <g transform=\"translate(20.878125 125.022471)scale(0.1 -0.1)\">\n       <use xlink:href=\"#DejaVuSans-53\"/>\n       <use x=\"63.623047\" xlink:href=\"#DejaVuSans-48\"/>\n      </g>\n     </g>\n    </g>\n    <g id=\"ytick_5\">\n     <g id=\"line2d_13\">\n      <g>\n       <use style=\"stroke:#000000;stroke-width:0.8;\" x=\"40.603125\" xlink:href=\"#meb3c3f76cf\" y=\"88.577606\"/>\n      </g>\n     </g>\n     <g id=\"text_14\">\n      <!-- 60 -->\n      <g transform=\"translate(20.878125 92.376825)scale(0.1 -0.1)\">\n       <defs>\n        <path d=\"M 33.015625 40.375 \nQ 26.375 40.375 22.484375 35.828125 \nQ 18.609375 31.296875 18.609375 23.390625 \nQ 18.609375 15.53125 22.484375 10.953125 \nQ 26.375 6.390625 33.015625 6.390625 \nQ 39.65625 6.390625 43.53125 10.953125 \nQ 47.40625 15.53125 47.40625 23.390625 \nQ 47.40625 31.296875 43.53125 35.828125 \nQ 39.65625 40.375 33.015625 40.375 \nz\nM 52.59375 71.296875 \nL 52.59375 62.3125 \nQ 48.875 64.0625 45.09375 64.984375 \nQ 41.3125 65.921875 37.59375 65.921875 \nQ 27.828125 65.921875 22.671875 59.328125 \nQ 17.53125 52.734375 16.796875 39.40625 \nQ 19.671875 43.65625 24.015625 45.921875 \nQ 28.375 48.1875 33.59375 48.1875 \nQ 44.578125 48.1875 50.953125 41.515625 \nQ 57.328125 34.859375 57.328125 23.390625 \nQ 57.328125 12.15625 50.6875 5.359375 \nQ 44.046875 -1.421875 33.015625 -1.421875 \nQ 20.359375 -1.421875 13.671875 8.265625 \nQ 6.984375 17.96875 6.984375 36.375 \nQ 6.984375 53.65625 15.1875 63.9375 \nQ 23.390625 74.21875 37.203125 74.21875 \nQ 40.921875 74.21875 44.703125 73.484375 \nQ 48.484375 72.75 52.59375 71.296875 \nz\n\" id=\"DejaVuSans-54\"/>\n       </defs>\n       <use xlink:href=\"#DejaVuSans-54\"/>\n       <use x=\"63.623047\" xlink:href=\"#DejaVuSans-48\"/>\n      </g>\n     </g>\n    </g>\n    <g id=\"ytick_6\">\n     <g id=\"line2d_14\">\n      <g>\n       <use style=\"stroke:#000000;stroke-width:0.8;\" x=\"40.603125\" xlink:href=\"#meb3c3f76cf\" y=\"55.93196\"/>\n      </g>\n     </g>\n     <g id=\"text_15\">\n      <!-- 70 -->\n      <g transform=\"translate(20.878125 59.731179)scale(0.1 -0.1)\">\n       <defs>\n        <path d=\"M 8.203125 72.90625 \nL 55.078125 72.90625 \nL 55.078125 68.703125 \nL 28.609375 0 \nL 18.3125 0 \nL 43.21875 64.59375 \nL 8.203125 64.59375 \nz\n\" id=\"DejaVuSans-55\"/>\n       </defs>\n       <use xlink:href=\"#DejaVuSans-55\"/>\n       <use x=\"63.623047\" xlink:href=\"#DejaVuSans-48\"/>\n      </g>\n     </g>\n    </g>\n    <g id=\"ytick_7\">\n     <g id=\"line2d_15\">\n      <g>\n       <use style=\"stroke:#000000;stroke-width:0.8;\" x=\"40.603125\" xlink:href=\"#meb3c3f76cf\" y=\"23.286314\"/>\n      </g>\n     </g>\n     <g id=\"text_16\">\n      <!-- 80 -->\n      <g transform=\"translate(20.878125 27.085533)scale(0.1 -0.1)\">\n       <defs>\n        <path d=\"M 31.78125 34.625 \nQ 24.75 34.625 20.71875 30.859375 \nQ 16.703125 27.09375 16.703125 20.515625 \nQ 16.703125 13.921875 20.71875 10.15625 \nQ 24.75 6.390625 31.78125 6.390625 \nQ 38.8125 6.390625 42.859375 10.171875 \nQ 46.921875 13.96875 46.921875 20.515625 \nQ 46.921875 27.09375 42.890625 30.859375 \nQ 38.875 34.625 31.78125 34.625 \nz\nM 21.921875 38.8125 \nQ 15.578125 40.375 12.03125 44.71875 \nQ 8.5 49.078125 8.5 55.328125 \nQ 8.5 64.0625 14.71875 69.140625 \nQ 20.953125 74.21875 31.78125 74.21875 \nQ 42.671875 74.21875 48.875 69.140625 \nQ 55.078125 64.0625 55.078125 55.328125 \nQ 55.078125 49.078125 51.53125 44.71875 \nQ 48 40.375 41.703125 38.8125 \nQ 48.828125 37.15625 52.796875 32.3125 \nQ 56.78125 27.484375 56.78125 20.515625 \nQ 56.78125 9.90625 50.3125 4.234375 \nQ 43.84375 -1.421875 31.78125 -1.421875 \nQ 19.734375 -1.421875 13.25 4.234375 \nQ 6.78125 9.90625 6.78125 20.515625 \nQ 6.78125 27.484375 10.78125 32.3125 \nQ 14.796875 37.15625 21.921875 38.8125 \nz\nM 18.3125 54.390625 \nQ 18.3125 48.734375 21.84375 45.5625 \nQ 25.390625 42.390625 31.78125 42.390625 \nQ 38.140625 42.390625 41.71875 45.5625 \nQ 45.3125 48.734375 45.3125 54.390625 \nQ 45.3125 60.0625 41.71875 63.234375 \nQ 38.140625 66.40625 31.78125 66.40625 \nQ 25.390625 66.40625 21.84375 63.234375 \nQ 18.3125 60.0625 18.3125 54.390625 \nz\n\" id=\"DejaVuSans-56\"/>\n       </defs>\n       <use xlink:href=\"#DejaVuSans-56\"/>\n       <use x=\"63.623047\" xlink:href=\"#DejaVuSans-48\"/>\n      </g>\n     </g>\n    </g>\n    <g id=\"text_17\">\n     <!-- y -->\n     <g transform=\"translate(14.798438 118.879375)rotate(-90)scale(0.1 -0.1)\">\n      <defs>\n       <path d=\"M 32.171875 -5.078125 \nQ 28.375 -14.84375 24.75 -17.8125 \nQ 21.140625 -20.796875 15.09375 -20.796875 \nL 7.90625 -20.796875 \nL 7.90625 -13.28125 \nL 13.1875 -13.28125 \nQ 16.890625 -13.28125 18.9375 -11.515625 \nQ 21 -9.765625 23.484375 -3.21875 \nL 25.09375 0.875 \nL 2.984375 54.6875 \nL 12.5 54.6875 \nL 29.59375 11.921875 \nL 46.6875 54.6875 \nL 56.203125 54.6875 \nz\n\" id=\"DejaVuSans-121\"/>\n      </defs>\n      <use xlink:href=\"#DejaVuSans-121\"/>\n     </g>\n    </g>\n   </g>\n   <g id=\"line2d_16\">\n    <defs>\n     <path d=\"M 0 -3 \nL -0.673542 -0.927051 \nL -2.85317 -0.927051 \nL -1.089814 0.354102 \nL -1.763356 2.427051 \nL -0 1.145898 \nL 1.763356 2.427051 \nL 1.089814 0.354102 \nL 2.85317 -0.927051 \nL 0.673542 -0.927051 \nz\n\" id=\"m9c123be9dd\" style=\"stroke:#0000ff;stroke-linejoin:bevel;\"/>\n    </defs>\n    <g clip-path=\"url(#p9d3129787d)\">\n     <use style=\"fill:#0000ff;stroke:#0000ff;stroke-linejoin:bevel;\" x=\"105.056601\" xlink:href=\"#m9c123be9dd\" y=\"167.906523\"/>\n     <use style=\"fill:#0000ff;stroke:#0000ff;stroke-linejoin:bevel;\" x=\"225.906868\" xlink:href=\"#m9c123be9dd\" y=\"101.962316\"/>\n     <use style=\"fill:#0000ff;stroke:#0000ff;stroke-linejoin:bevel;\" x=\"234.85874\" xlink:href=\"#m9c123be9dd\" y=\"94.45382\"/>\n     <use style=\"fill:#0000ff;stroke:#0000ff;stroke-linejoin:bevel;\" x=\"351.233072\" xlink:href=\"#m9c123be9dd\" y=\"17.083636\"/>\n     <use style=\"fill:#0000ff;stroke:#0000ff;stroke-linejoin:bevel;\" x=\"199.051253\" xlink:href=\"#m9c123be9dd\" y=\"100.656497\"/>\n     <use style=\"fill:#0000ff;stroke:#0000ff;stroke-linejoin:bevel;\" x=\"172.195638\" xlink:href=\"#m9c123be9dd\" y=\"124.814268\"/>\n     <use style=\"fill:#0000ff;stroke:#0000ff;stroke-linejoin:bevel;\" x=\"127.43628\" xlink:href=\"#m9c123be9dd\" y=\"173.782737\"/>\n     <use style=\"fill:#0000ff;stroke:#0000ff;stroke-linejoin:bevel;\" x=\"64.773178\" xlink:href=\"#m9c123be9dd\" y=\"213.283976\"/>\n     <use style=\"fill:#0000ff;stroke:#0000ff;stroke-linejoin:bevel;\" x=\"154.291895\" xlink:href=\"#m9c123be9dd\" y=\"126.44655\"/>\n     <use style=\"fill:#0000ff;stroke:#0000ff;stroke-linejoin:bevel;\" x=\"216.954997\" xlink:href=\"#m9c123be9dd\" y=\"87.271775\"/>\n     <use style=\"fill:#0000ff;stroke:#0000ff;stroke-linejoin:bevel;\" x=\"288.56997\" xlink:href=\"#m9c123be9dd\" y=\"61.155258\"/>\n    </g>\n   </g>\n   <g id=\"line2d_17\">\n    <path clip-path=\"url(#p9d3129787d)\" d=\"M 55.821307 214.756364 \nL 64.773178 209.352467 \nL 73.72505 203.663153 \nL 82.676922 197.698184 \nL 91.628793 191.471434 \nL 100.580665 185.000942 \nL 109.532537 178.308898 \nL 118.484408 171.421474 \nL 127.43628 164.368583 \nL 136.388152 157.183375 \nL 145.340023 149.901729 \nL 154.291895 142.561477 \nL 163.243767 135.201774 \nL 172.195638 127.862132 \nL 181.14751 120.581669 \nL 190.099382 113.398217 \nL 199.051253 106.347605 \nL 208.003125 99.462933 \nL 216.954997 92.774078 \nL 225.906868 86.30714 \nL 234.85874 80.084239 \nL 243.810612 74.12338 \nL 252.762483 68.438337 \nL 261.714355 63.038824 \nL 270.666227 57.930769 \nL 279.618098 53.116413 \nL 288.56997 48.594834 \nL 297.521842 44.362273 \nL 306.473713 40.412451 \nL 315.425585 36.737176 \nL 324.377457 33.326534 \nL 333.329328 30.169367 \nL 342.2812 27.253545 \nL 351.233072 24.566416 \nL 360.184943 22.09483 \n\" style=\"fill:none;stroke:#00bfbf;stroke-linecap:square;stroke-width:1.5;\"/>\n   </g>\n   <g id=\"line2d_18\">\n    <defs>\n     <path d=\"M 0 3 \nC 0.795609 3 1.55874 2.683901 2.12132 2.12132 \nC 2.683901 1.55874 3 0.795609 3 0 \nC 3 -0.795609 2.683901 -1.55874 2.12132 -2.12132 \nC 1.55874 -2.683901 0.795609 -3 0 -3 \nC -0.795609 -3 -1.55874 -2.683901 -2.12132 -2.12132 \nC -2.683901 -1.55874 -3 -0.795609 -3 0 \nC -3 0.795609 -2.683901 1.55874 -2.12132 2.12132 \nC -1.55874 2.683901 -0.795609 3 0 3 \nz\n\" id=\"m5c68caef3c\" style=\"stroke:#ff0000;\"/>\n    </defs>\n    <g clip-path=\"url(#p9d3129787d)\">\n     <use style=\"fill:#ff0000;stroke:#ff0000;\" x=\"105.056601\" xlink:href=\"#m5c68caef3c\" y=\"181.681059\"/>\n     <use style=\"fill:#ff0000;stroke:#ff0000;\" x=\"225.906868\" xlink:href=\"#m5c68caef3c\" y=\"86.30714\"/>\n     <use style=\"fill:#ff0000;stroke:#ff0000;\" x=\"234.85874\" xlink:href=\"#m5c68caef3c\" y=\"80.084239\"/>\n     <use style=\"fill:#ff0000;stroke:#ff0000;\" x=\"351.233072\" xlink:href=\"#m5c68caef3c\" y=\"24.566416\"/>\n     <use style=\"fill:#ff0000;stroke:#ff0000;\" x=\"199.051253\" xlink:href=\"#m5c68caef3c\" y=\"106.347605\"/>\n     <use style=\"fill:#ff0000;stroke:#ff0000;\" x=\"172.195638\" xlink:href=\"#m5c68caef3c\" y=\"127.862132\"/>\n     <use style=\"fill:#ff0000;stroke:#ff0000;\" x=\"127.43628\" xlink:href=\"#m5c68caef3c\" y=\"164.368583\"/>\n     <use style=\"fill:#ff0000;stroke:#ff0000;\" x=\"64.773178\" xlink:href=\"#m5c68caef3c\" y=\"209.352467\"/>\n     <use style=\"fill:#ff0000;stroke:#ff0000;\" x=\"154.291895\" xlink:href=\"#m5c68caef3c\" y=\"142.561477\"/>\n     <use style=\"fill:#ff0000;stroke:#ff0000;\" x=\"216.954997\" xlink:href=\"#m5c68caef3c\" y=\"92.774078\"/>\n     <use style=\"fill:#ff0000;stroke:#ff0000;\" x=\"288.56997\" xlink:href=\"#m5c68caef3c\" y=\"48.594834\"/>\n    </g>\n   </g>\n   <g id=\"patch_3\">\n    <path d=\"M 40.603125 224.64 \nL 40.603125 7.2 \n\" style=\"fill:none;stroke:#000000;stroke-linecap:square;stroke-linejoin:miter;stroke-width:0.8;\"/>\n   </g>\n   <g id=\"patch_4\">\n    <path d=\"M 375.403125 224.64 \nL 375.403125 7.2 \n\" style=\"fill:none;stroke:#000000;stroke-linecap:square;stroke-linejoin:miter;stroke-width:0.8;\"/>\n   </g>\n   <g id=\"patch_5\">\n    <path d=\"M 40.603125 224.64 \nL 375.403125 224.64 \n\" style=\"fill:none;stroke:#000000;stroke-linecap:square;stroke-linejoin:miter;stroke-width:0.8;\"/>\n   </g>\n   <g id=\"patch_6\">\n    <path d=\"M 40.603125 7.2 \nL 375.403125 7.2 \n\" style=\"fill:none;stroke:#000000;stroke-linecap:square;stroke-linejoin:miter;stroke-width:0.8;\"/>\n   </g>\n  </g>\n </g>\n <defs>\n  <clipPath id=\"p9d3129787d\">\n   <rect height=\"217.44\" width=\"334.8\" x=\"40.603125\" y=\"7.2\"/>\n  </clipPath>\n </defs>\n</svg>\n",
      "text/plain": [
       "<Figure size 432x288 with 1 Axes>"
      ]
     },
     "metadata": {
      "needs_background": "light"
     },
     "output_type": "display_data"
    }
   ],
   "source": [
    "from matplotlib import pyplot as plt\n",
    "x_sample = t.arange(-5., 30.).unsqueeze(1)\n",
    "print(x_sample.shape)\n",
    "#fig = plt.figure(dpi=600)\n",
    "plt.xlabel(\"x\")\n",
    "plt.ylabel(\"y\")\n",
    "plt.plot(x_t.numpy(), y_t.numpy(), 'b*')\n",
    "plt.plot(x_sample.numpy(), seq_model3(x_sample).detach().numpy(), 'c-')\n",
    "plt.plot(x_t.numpy(),      seq_model3(x_t_2d).detach().numpy(),   'ro')"
   ]
  },
  {
   "cell_type": "markdown",
   "metadata": {},
   "source": []
  },
  {
   "cell_type": "code",
   "execution_count": 21,
   "metadata": {},
   "outputs": [
    {
     "name": "stdout",
     "output_type": "stream",
     "text": [
      "(200, 2)\n",
      "(200, 1)\n",
      "(200, 3)\n",
      "[[-1.32647301 -0.29545182  0.        ]\n",
      " [-1.11627776 -1.08043674  0.        ]\n",
      " [-0.62704265 -0.64230973  0.        ]\n",
      " [-0.7119615  -0.97929019  0.        ]\n",
      " [-0.46951097 -0.71943885  0.        ]]\n"
     ]
    }
   ],
   "source": [
    "# Starting point classification = try an example of classification error\n",
    "import torch as t\n",
    "import torch.nn as nn\n",
    "import torch.optim as optim\n",
    "import numpy as np\n",
    "from matplotlib import pyplot as plt\n",
    "from collections import OrderedDict\n",
    "from sklearn.preprocessing import StandardScaler\n",
    "\n",
    "mean1, sigma1 = 0, 1\n",
    "mean2, sigma2 = 2, 2\n",
    "\n",
    "samples= np.random.normal(mean1, sigma1, (100,2))\n",
    "samples= np.append(samples, np.random.normal(mean2, sigma2, (100,\n",
    "2)), axis = 0)\n",
    "#normalize data (x- mean)/std\n",
    "scaler = StandardScaler()\n",
    "samples = scaler.fit_transform(samples)\n",
    "\n",
    "# add labels for 0 and 1 class\n",
    "nr_samples = samples.shape[0]\n",
    "label = np.ones((nr_samples,1), dtype = int)\n",
    "print(samples.shape)\n",
    "print(label.shape)\n",
    "label[:99] = 0\n",
    "label[100:] = 1\n",
    "# add the label to the samples\n",
    "samples_label = np.append(samples, label, axis = 1)\n",
    "print(samples_label.shape)\n",
    "print(samples_label[:5,:])"
   ]
  },
  {
   "cell_type": "code",
   "execution_count": 22,
   "metadata": {},
   "outputs": [
    {
     "data": {
      "text/plain": [
       "[<matplotlib.lines.Line2D at 0x14365e160>]"
      ]
     },
     "execution_count": 22,
     "metadata": {},
     "output_type": "execute_result"
    },
    {
     "data": {
      "image/png": "[encoded data removed]",
      "text/plain": [
       "<Figure size 432x288 with 1 Axes>"
      ]
     },
     "metadata": {
      "needs_background": "light"
     },
     "output_type": "display_data"
    }
   ],
   "source": [
    "# plot the samples\n",
    "plt.plot(samples[0:100,0], samples[0:100,1],'r.')\n",
    "plt.plot(samples[100:-1,0], samples[100:-1,1],'b.')"
   ]
  },
  {
   "cell_type": "code",
   "execution_count": 23,
   "metadata": {},
   "outputs": [
    {
     "name": "stdout",
     "output_type": "stream",
     "text": [
      "[[-0.8500133   0.7289102   1.        ]\n",
      " [-0.16475777 -0.27897441  0.        ]\n",
      " [-1.25263487 -0.73490123  0.        ]\n",
      " [-0.15070116 -0.38751278  0.        ]\n",
      " [-0.66727912  0.01166482  0.        ]]\n"
     ]
    }
   ],
   "source": [
    "# shuffle the data points \n",
    "np.random.shuffle(samples_label)\n",
    "print(samples_label[:5,:])\n",
    "\n",
    "x_all = samples_label[:,:2]\n",
    "y_all = samples_label[:,-1]"
   ]
  },
  {
   "cell_type": "code",
   "execution_count": 24,
   "metadata": {},
   "outputs": [
    {
     "name": "stdout",
     "output_type": "stream",
     "text": [
      "(160, 2) (40, 2)\n",
      "(160,) (40,)\n"
     ]
    }
   ],
   "source": [
    "# training and validation data\n",
    "from sklearn.model_selection import train_test_split\n",
    "\n",
    "x_train, x_val, y_train, y_val = train_test_split(x_all, y_all, test_size=.2, train_size=.8, random_state = None, shuffle=True, stratify=None)\n",
    "print(x_train.shape, x_val.shape)\n",
    "print(y_train.shape, y_val.shape)\n"
   ]
  },
  {
   "cell_type": "code",
   "execution_count": 25,
   "metadata": {},
   "outputs": [
    {
     "data": {
      "text/plain": [
       "torch.Size([40])"
      ]
     },
     "execution_count": 25,
     "metadata": {},
     "output_type": "execute_result"
    }
   ],
   "source": [
    "# convert to tensors\n",
    "x_t_train = t.from_numpy(x_train).float()\n",
    "x_t_val   = t.from_numpy(x_val).float()\n",
    "y_t_train = t.flatten(t.from_numpy(y_train).long())  # output needed to be long not double, not one hot encoding\n",
    "y_t_val = t.flatten(t.from_numpy(y_val).long())\n",
    "\n",
    "y_t_val.shape"
   ]
  },
  {
   "cell_type": "code",
   "execution_count": 26,
   "metadata": {},
   "outputs": [
    {
     "name": "stdout",
     "output_type": "stream",
     "text": [
      "torch.Size([40, 2])\n",
      "tensor(0.6759, grad_fn=<NllLossBackward0>)\n"
     ]
    }
   ],
   "source": [
    "# build a classification network \n",
    "n_hidden1 = 10\n",
    "seq_model4 = nn.Sequential(OrderedDict\n",
    "                 ([\n",
    "                    ('hidden_linear1', nn.Linear(2, n_hidden1)),\n",
    "                    ('hidden_activation1', nn.Tanh()),\n",
    "                    #('hidden_linear2', nn.Linear(n_hidden1, n_hidden2)),\n",
    "                    #('hidden_activation2', nn.Sigmoid()),\n",
    "                    ('output_softmax', nn.Linear(n_hidden1, 2))\n",
    "                    #('output_activation', nn.Softmax()) # no softmax with CrossEntropyLoss 0\n",
    "                    ]))\n",
    "#seq_model4.hidden_linear1.weight\n",
    "ym = seq_model4(x_t_val)\n",
    "print(ym.shape)\n",
    "loss = nn.CrossEntropyLoss()\n",
    "loss_train = loss(ym, y_t_val) # y_t_val has to be long\n",
    "print(loss_train)\n"
   ]
  },
  {
   "cell_type": "code",
   "execution_count": 28,
   "metadata": {},
   "outputs": [
    {
     "name": "stdout",
     "output_type": "stream",
     "text": [
      "Epoch 1, Training loss 0.2387, Validation loss 0.3791\n",
      "Epoch 1000, Training loss 0.2165, Validation loss 0.4209\n"
     ]
    }
   ],
   "source": [
    "optimizer = optim.Adam(seq_model4.parameters(), lr=1e-3) \n",
    "# try SGD, try other lr\n",
    "\n",
    "train_classifier(n_epochs    = 1000,       optimizer = optimizer,  \n",
    "                model        = seq_model4, loss_fn   = nn.CrossEntropyLoss(),\n",
    "                x_train      = x_t_train,  x_val     = x_t_val, \n",
    "                y_train      = y_t_train,  y_val     = y_t_val )"
   ]
  },
  {
   "cell_type": "code",
   "execution_count": 13,
   "metadata": {},
   "outputs": [],
   "source": [
    "def train_classifier(n_epochs, \n",
    "                      optimizer,\n",
    "                      model, \n",
    "                      loss_fn,\n",
    "                      x_train, y_train,\n",
    "                      x_val, y_val\n",
    "                      ):\n",
    "                      \n",
    "    for epoch in range(1, n_epochs + 1):\n",
    "        # forward pass training\n",
    "        # randomize the vector of inputs\n",
    "        ind_random = t.randperm(x_train.shape[0])\n",
    "        x_train_r  = x_train[ind_random,:]\n",
    "        y_train_r  = y_train[ind_random]\n",
    "        \n",
    "        y_p_train  = model(x_train_r)\n",
    "        loss_train = loss_fn(y_p_train, y_train_r)      \n",
    "        \n",
    "        # backwards training\n",
    "        optimizer.zero_grad() \n",
    "        loss_train.backward()  # gradients are computed and parameters ar changed\n",
    "        optimizer.step()\n",
    "\n",
    "        if epoch == 1 or epoch % 1000 == 0:\n",
    "            # forward pass validation\n",
    "            y_p_val    = model(x_val)\n",
    "            loss_val   = loss_fn(y_p_val, y_val)\n",
    "            print(f\"Epoch {epoch}, Training loss {loss_train.item():.4f},\"\n",
    "f\" Validation loss {loss_val.item():.4f}\")\n"
   ]
  },
  {
   "cell_type": "code",
   "execution_count": 29,
   "metadata": {},
   "outputs": [
    {
     "name": "stdout",
     "output_type": "stream",
     "text": [
      "torch.Size([160])\n",
      "Validation accuracy =  tensor(0.8750)\n",
      "Training accuracy =  tensor(0.8813)\n"
     ]
    }
   ],
   "source": [
    "soft_max  = t.nn.Softmax(1) \n",
    "y_m_train = soft_max(seq_model4(x_t_train)) # y_m normalized with softmax\n",
    "y_m_train = t.argmax(y_m_train,dim = 1)\n",
    "print(y_m_train.shape)\n",
    "y_m_val   = soft_max(seq_model4(x_t_val))\n",
    "y_m_val   = t.argmax(y_m_val,dim = 1)\n",
    "correct_pred_val = t.sum(y_m_val == y_t_val)/y_m_val.shape[0]\n",
    "print(\"Validation accuracy = \", correct_pred_val)\n",
    "\n",
    "correct_pred_train = t.sum(y_m_train == y_t_train)/y_m_train.shape[0]\n",
    "print(\"Training accuracy = \", correct_pred_train)"
   ]
  },
  {
   "cell_type": "code",
   "execution_count": 19,
   "metadata": {},
   "outputs": [
    {
     "data": {
      "image/png": "[encoded data removed]",
      "text/plain": [
       "<Figure size 432x288 with 1 Axes>"
      ]
     },
     "metadata": {
      "needs_background": "light"
     },
     "output_type": "display_data"
    }
   ],
   "source": [
    "# plot original data\n",
    "for cat in range(2):\n",
    "    samples_l = samples_label[samples_label[:,-1] == cat,:-1]\n",
    "    plt.plot(samples_l[:,0], samples_l[:,1],linestyle = 'none', marker = '.', label = cat)\n",
    "plt.show()"
   ]
  },
  {
   "cell_type": "code",
   "execution_count": 30,
   "metadata": {},
   "outputs": [
    {
     "data": {
      "image/png": "[encoded data removed]",
      "text/plain": [
       "<Figure size 432x288 with 1 Axes>"
      ]
     },
     "metadata": {
      "needs_background": "light"
     },
     "output_type": "display_data"
    }
   ],
   "source": [
    "# print results - need to finish this\n",
    "\n",
    "for label in range(2): # for each class - find the data points in that class and plot them\n",
    "    x_plot_train = x_t_train[y_m_train == label,:]\n",
    "    x_plot_val   = x_t_val[y_m_val == label,:]\n",
    "    plt.plot(x_plot_train[:,0], x_plot_train[:,1],linestyle = 'none', marker = '.', label = label)\n",
    "    plt.plot(x_plot_val[:,0], x_plot_val[:,1],linestyle = 'none', marker = '.', label = label)\n",
    "\n",
    "plt.show()\n",
    "    \n",
    "\n",
    "#plt.xlabel(\"x\")\n",
    "#plt.ylabel(\"y\")\n",
    "#plt.plot(x_t_val.numpy()[:,0], x_t_val.numpy()[:,1], 'b*')\n",
    "#plt.plot(x_sample.numpy(), seq_model3().detach().numpy(), 'c-')\n",
    "#plt.plot(x_t.numpy(),      seq_model3(x_t_2d).detach().numpy(),   'ro')"
   ]
  },
  {
   "cell_type": "code",
   "execution_count": 313,
   "metadata": {},
   "outputs": [
    {
     "name": "stdout",
     "output_type": "stream",
     "text": [
      "tensor([[1.0000e+00, 4.7768e-06],\n",
      "        [4.9705e-03, 9.9503e-01]], grad_fn=<SliceBackward>)\n",
      "tensor([0, 1]) tensor([0, 1])\n"
     ]
    }
   ],
   "source": [
    "soft_max = t.nn.Softmax(1) \n",
    "y_m_train = soft_max(seq_model4(x_t_train)) # y_m normalized\n",
    "print(y_m[:2,:])\n",
    "y_pred = t.argmax(y_m,1)\n",
    "print(y_pred[:2], y_t_train[:2])\n"
   ]
  },
  {
   "cell_type": "code",
   "execution_count": 377,
   "metadata": {},
   "outputs": [
    {
     "name": "stdout",
     "output_type": "stream",
     "text": [
      "tensor([[1.0732, 0.6015]]) tensor(1)\n",
      "tensor([[-0.9693, -1.0684]]) tensor(0)\n",
      "tensor([[-0.0970,  0.2243]]) tensor(1)\n",
      "tensor([[-0.5212, -0.6084]]) tensor(0)\n",
      "tensor([[-0.9537, -0.4571]]) tensor(0)\n",
      "tensor([[ 0.6683, -0.1910]]) tensor(1)\n",
      "tensor([[-0.6544, -0.7947]]) tensor(0)\n",
      "tensor([[-0.7144,  0.7833]]) tensor(1)\n",
      "tensor([[ 0.9559, -1.8449]]) tensor(1)\n",
      "tensor([[ 1.8968, -0.8463]]) tensor(1)\n",
      "tensor([[0.8294, 0.9996]]) tensor(1)\n",
      "tensor([[ 0.0371, -0.5012]]) tensor(0)\n",
      "tensor([[-0.7731,  0.4865]]) tensor(1)\n",
      "tensor([[-0.0774, -0.8634]]) tensor(0)\n",
      "tensor([[ 0.4225, -1.3883]]) tensor(1)\n",
      "tensor([[-0.3572,  1.2354]]) tensor(1)\n",
      "tensor([[-0.9829, -0.1979]]) tensor(0)\n",
      "tensor([[-0.1869, -1.5343]]) tensor(1)\n",
      "tensor([[-0.3549, -0.2596]]) tensor(0)\n",
      "tensor([[-0.9089, -0.0688]]) tensor(0)\n",
      "tensor([[-1.3128,  0.0079]]) tensor(0)\n",
      "tensor([[2.1145, 0.6298]]) tensor(1)\n",
      "tensor([[0.6624, 0.6800]]) tensor(1)\n",
      "tensor([[ 0.1007, -0.4399]]) tensor(0)\n",
      "tensor([[ 0.1562, -0.4329]]) tensor(1)\n",
      "tensor([[ 0.9690, -0.8701]]) tensor(1)\n",
      "tensor([[-0.7517, -0.2489]]) tensor(1)\n",
      "tensor([[-0.6926, -1.1553]]) tensor(0)\n",
      "tensor([[-0.9237, -1.9407]]) tensor(0)\n",
      "tensor([[-0.0689,  2.3198]]) tensor(1)\n",
      "tensor([[ 0.1314, -0.4427]]) tensor(1)\n",
      "tensor([[1.3824, 0.2546]]) tensor(1)\n",
      "tensor([[ 0.1883, -0.7642]]) tensor(1)\n",
      "tensor([[-0.5177, -1.0794]]) tensor(0)\n",
      "tensor([[ 0.9800, -0.5288]]) tensor(1)\n",
      "tensor([[-0.4383, -0.4464]]) tensor(0)\n",
      "tensor([[0.8707, 1.0023]]) tensor(1)\n",
      "tensor([[-1.3474, -0.1365]]) tensor(0)\n",
      "tensor([[-0.8987,  1.1501]]) tensor(1)\n",
      "tensor([[ 0.4850, -0.3152]]) tensor(0)\n",
      "tensor([[-0.3987, -0.5438]]) tensor(0)\n",
      "tensor([[ 0.0528, -0.9997]]) tensor(0)\n",
      "tensor([[1.4113, 3.0696]]) tensor(1)\n",
      "tensor([[0.4728, 1.7809]]) tensor(1)\n",
      "tensor([[ 0.8371, -1.1686]]) tensor(0)\n",
      "tensor([[-0.4894,  0.9991]]) tensor(1)\n",
      "tensor([[2.7742, 0.6170]]) tensor(1)\n",
      "tensor([[-0.2731,  2.8679]]) tensor(1)\n",
      "tensor([[-0.3139,  0.0336]]) tensor(0)\n",
      "tensor([[-1.0511, -0.8472]]) tensor(1)\n",
      "tensor([[0.5063, 0.7979]]) tensor(1)\n",
      "tensor([[-0.6905, -0.2191]]) tensor(0)\n",
      "tensor([[-0.2977, -0.7009]]) tensor(0)\n",
      "tensor([[-0.3406, -0.2555]]) tensor(1)\n",
      "tensor([[-1.5827, -0.3107]]) tensor(0)\n",
      "tensor([[-0.2704, -1.2693]]) tensor(0)\n",
      "tensor([[1.7243, 0.5324]]) tensor(1)\n",
      "tensor([[-0.2361, -0.2413]]) tensor(0)\n",
      "tensor([[0.3927, 2.7503]]) tensor(1)\n",
      "tensor([[3.4356, 2.2429]]) tensor(1)\n",
      "tensor([[-1.1607, -0.2100]]) tensor(0)\n",
      "tensor([[ 2.4698, -1.1176]]) tensor(1)\n",
      "tensor([[-0.2190, -0.4043]]) tensor(0)\n",
      "tensor([[-0.2172,  1.0225]]) tensor(1)\n",
      "tensor([[-0.3767, -1.3645]]) tensor(0)\n",
      "tensor([[-0.7638, -1.1199]]) tensor(0)\n",
      "tensor([[ 0.9103, -1.4193]]) tensor(1)\n",
      "tensor([[-0.0470,  0.3406]]) tensor(0)\n",
      "tensor([[-0.4316,  0.1248]]) tensor(0)\n",
      "tensor([[-0.3443, -0.1677]]) tensor(0)\n",
      "tensor([[ 0.0937, -1.1102]]) tensor(0)\n",
      "tensor([[-1.4807, -1.5354]]) tensor(0)\n",
      "tensor([[-0.7761, -1.1103]]) tensor(0)\n",
      "tensor([[-1.0072, -0.0880]]) tensor(0)\n",
      "tensor([[-0.8634, -0.8628]]) tensor(0)\n",
      "tensor([[-1.9868, -0.8848]]) tensor(0)\n",
      "tensor([[0.8031, 0.2180]]) tensor(1)\n",
      "tensor([[-1.3647,  0.4298]]) tensor(0)\n",
      "tensor([[-1.0565, -0.9736]]) tensor(0)\n",
      "tensor([[1.9978, 0.8095]]) tensor(1)\n",
      "tensor([[-1.1309,  0.6474]]) tensor(1)\n",
      "tensor([[ 0.1362, -0.3336]]) tensor(0)\n",
      "tensor([[-0.4635, -1.1563]]) tensor(0)\n",
      "tensor([[-1.3433,  0.1297]]) tensor(0)\n",
      "tensor([[-0.2059, -0.3025]]) tensor(0)\n",
      "tensor([[ 1.1127, -0.4339]]) tensor(1)\n",
      "tensor([[-0.8242, -0.4084]]) tensor(0)\n",
      "tensor([[-0.6699,  0.0025]]) tensor(0)\n",
      "tensor([[ 0.0035, -0.2803]]) tensor(0)\n",
      "tensor([[-0.5349, -1.1872]]) tensor(0)\n",
      "tensor([[-0.5875, -0.4750]]) tensor(1)\n",
      "tensor([[ 0.1348, -0.5154]]) tensor(0)\n",
      "tensor([[-0.2757, -0.3936]]) tensor(0)\n",
      "tensor([[ 0.3841, -1.1520]]) tensor(0)\n",
      "tensor([[-1.2039, -1.3798]]) tensor(0)\n",
      "tensor([[-1.6871, -0.6449]]) tensor(0)\n",
      "tensor([[ 1.7308, -0.5182]]) tensor(1)\n",
      "tensor([[-0.9953,  2.1284]]) tensor(1)\n",
      "tensor([[0.6493, 1.9716]]) tensor(1)\n",
      "tensor([[-0.2157, -0.3614]]) tensor(0)\n",
      "tensor([[-0.9653, -1.0220]]) tensor(0)\n",
      "tensor([[0.2109, 0.7377]]) tensor(0)\n",
      "tensor([[0.4404, 1.8801]]) tensor(1)\n",
      "tensor([[0.9857, 0.1386]]) tensor(1)\n",
      "tensor([[-0.5846, -1.8781]]) tensor(1)\n",
      "tensor([[-1.8241,  0.1672]]) tensor(1)\n",
      "tensor([[-0.1532,  0.0485]]) tensor(0)\n",
      "tensor([[-0.8511, -0.7933]]) tensor(0)\n",
      "tensor([[2.4563, 0.5664]]) tensor(1)\n",
      "tensor([[0.7891, 0.9514]]) tensor(1)\n",
      "tensor([[-1.3914, -0.8374]]) tensor(1)\n",
      "tensor([[0.7218, 1.1454]]) tensor(1)\n",
      "tensor([[-0.3527, -0.2408]]) tensor(0)\n",
      "tensor([[-0.7737, -0.0761]]) tensor(0)\n",
      "tensor([[1.4748, 1.2341]]) tensor(1)\n",
      "tensor([[-0.2425,  0.5421]]) tensor(0)\n",
      "tensor([[1.8280, 1.3565]]) tensor(1)\n",
      "tensor([[0.6522, 0.2304]]) tensor(1)\n",
      "tensor([[-1.2169, -0.8780]]) tensor(0)\n",
      "tensor([[-0.0301, -0.5811]]) tensor(1)\n",
      "tensor([[-0.9633, -0.9827]]) tensor(0)\n",
      "tensor([[-0.9261, -0.8214]]) tensor(0)\n",
      "tensor([[0.8867, 1.2301]]) tensor(1)\n",
      "tensor([[-0.4071, -0.2547]]) tensor(0)\n",
      "tensor([[-0.2526,  0.5062]]) tensor(0)\n",
      "tensor([[-0.2349, -0.1163]]) tensor(1)\n",
      "tensor([[-1.4558,  1.0965]]) tensor(1)\n",
      "tensor([[-1.4948, -0.6807]]) tensor(0)\n",
      "tensor([[0.0301, 0.8342]]) tensor(1)\n",
      "tensor([[ 1.9445, -0.0484]]) tensor(1)\n",
      "tensor([[-0.1965, -0.0997]]) tensor(0)\n",
      "tensor([[-1.0122, -1.3027]]) tensor(0)\n",
      "tensor([[-1.1799, -1.1988]]) tensor(0)\n",
      "tensor([[-0.1773, -0.3574]]) tensor(1)\n",
      "tensor([[-0.1521, -0.6493]]) tensor(0)\n",
      "tensor([[2.7657, 2.0703]]) tensor(1)\n",
      "tensor([[0.4570, 2.1726]]) tensor(1)\n",
      "tensor([[0.7453, 0.2075]]) tensor(1)\n",
      "tensor([[ 0.7019, -0.2192]]) tensor(1)\n",
      "tensor([[-1.0499, -0.3623]]) tensor(0)\n",
      "tensor([[ 1.9440, -0.4782]]) tensor(1)\n",
      "tensor([[-0.2849,  0.1299]]) tensor(1)\n",
      "tensor([[ 0.5157, -0.0813]]) tensor(1)\n",
      "tensor([[0.9141, 1.6185]]) tensor(1)\n",
      "tensor([[0.2063, 0.2366]]) tensor(1)\n",
      "tensor([[-1.0702,  0.5606]]) tensor(0)\n",
      "tensor([[-1.4534, -0.6115]]) tensor(0)\n",
      "tensor([[-0.8709, -0.9516]]) tensor(0)\n",
      "tensor([[1.8597, 1.3107]]) tensor(1)\n",
      "tensor([[2.3970, 0.6460]]) tensor(1)\n",
      "tensor([[0.0150, 1.7594]]) tensor(1)\n",
      "tensor([[ 0.2148, -0.2864]]) tensor(1)\n",
      "tensor([[0.4441, 0.7144]]) tensor(1)\n",
      "tensor([[-0.1433,  0.0498]]) tensor(1)\n",
      "tensor([[ 1.1127, -0.0738]]) tensor(1)\n",
      "tensor([[1.4875, 1.1881]]) tensor(1)\n",
      "tensor([[-0.3621, -0.8038]]) tensor(0)\n",
      "tensor([[-0.5499, -0.6747]]) tensor(0)\n",
      "tensor([[ 0.1461, -1.3045]]) tensor(0)\n",
      "tensor([[-0.9783,  1.0680]]) tensor(1)\n"
     ]
    }
   ],
   "source": [
    "# it works\n",
    "#train_data = t.cat((x_t_train, y_t_train.unsqueeze(1)),1)\n",
    "#train_data[:5]\n",
    "train_data = [(x_t_train[i], y_t_train[i]) for i in range(x_t_train.shape[0])]\n",
    "#train_data[:5]\n",
    "trainloader = t.utils.data.DataLoader(train_data, batch_size = 1, shuffle=True)\n",
    "for x,label in trainloader:  # shuffles the data\n",
    "    print(x,label[0])"
   ]
  },
  {
   "cell_type": "code",
   "execution_count": 259,
   "metadata": {},
   "outputs": [
    {
     "name": "stdout",
     "output_type": "stream",
     "text": [
      "[tensor([2, 1]), tensor([1, 0])]\n"
     ]
    }
   ],
   "source": [
    "x =np.array([1,2])\n",
    "y = np.array([0,1])\n",
    "x = t.from_numpy(x)\n",
    "y = t.from_numpy(y)\n",
    "\n",
    "train_data = t.utils.data.TensorDataset(x, y)\n",
    "train_loader = t.utils.data.DataLoader(train_data, batch_size=32, shuffle=True)\n",
    "#print(dir(train_loader))\n",
    "iterator = iter(train_loader)\n",
    "#print(\"xr =\", data[0])\n",
    "#print(\"yr=\", data[1])\n",
    "for xi,yi in iterator:\n",
    "    print(\"x= \",xi)\n",
    "    print(\"y= \", yi)\n",
    "\n"
   ]
  },
  {
   "cell_type": "code",
   "execution_count": null,
   "metadata": {},
   "outputs": [],
   "source": []
  },
  {
   "cell_type": "code",
   "execution_count": null,
   "metadata": {},
   "outputs": [],
   "source": []
  }
 ],
 "metadata": {
  "kernelspec": {
   "display_name": "Python 3.7.3 64-bit",
   "metadata": {
    "interpreter": {
     "hash": "aee8b7b246df8f9039afb4144a1f6fd8d2ca17a180786b69acc140d282b71a49"
    }
   },
   "name": "python3"
  },
  "language_info": {
   "codemirror_mode": {
    "name": "ipython",
    "version": 3
   },
   "file_extension": ".py",
   "mimetype": "text/x-python",
   "name": "python",
   "nbconvert_exporter": "python",
   "pygments_lexer": "ipython3",
   "version": "3.9.4"
  },
  "orig_nbformat": 2
 },
 "nbformat": 4,
 "nbformat_minor": 2
}
