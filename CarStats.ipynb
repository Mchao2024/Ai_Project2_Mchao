{
 "cells": [
  {
   "cell_type": "code",
   "execution_count": null,
   "metadata": {},
   "outputs": [],
   "source": [
    "!pip3 install torch torchvision"
   ]
  },
  {
   "cell_type": "code",
   "execution_count": 88,
   "metadata": {},
   "outputs": [
    {
     "name": "stdout",
     "output_type": "stream",
     "text": [
      "C:\\Users\\mytra\\AppData\\Local\\Microsoft\\WindowsApps\\PythonSoftwareFoundation.Python.3.11_qbz5n2kfra8p0\\python.exe\n",
      "3.11.9 (tags/v3.11.9:de54cf5, Apr  2 2024, 10:12:12) [MSC v.1938 64 bit (AMD64)]\n",
      "sys.version_info(major=3, minor=11, micro=9, releaselevel='final', serial=0)\n"
     ]
    }
   ],
   "source": [
    "import sys\n",
    "print(sys.executable)\n",
    "print(sys.version)\n",
    "print(sys.version_info)"
   ]
  },
  {
   "cell_type": "code",
   "execution_count": 91,
   "metadata": {},
   "outputs": [],
   "source": [
    "import numpy as np \n",
    "import pandas as pd\n",
    "import os\n",
    "import torch as t \n",
    "for dirname, _, filenames in os.walk('/kaggle/input'):\n",
    "    for filename in filenames:\n",
    "        print(os.path.join(dirname, filename))"
   ]
  },
  {
   "cell_type": "code",
   "execution_count": 92,
   "metadata": {},
   "outputs": [
    {
     "data": {
      "text/html": [
       "<div>\n",
       "<style scoped>\n",
       "    .dataframe tbody tr th:only-of-type {\n",
       "        vertical-align: middle;\n",
       "    }\n",
       "\n",
       "    .dataframe tbody tr th {\n",
       "        vertical-align: top;\n",
       "    }\n",
       "\n",
       "    .dataframe thead th {\n",
       "        text-align: right;\n",
       "    }\n",
       "</style>\n",
       "<table border=\"1\" class=\"dataframe\">\n",
       "  <thead>\n",
       "    <tr style=\"text-align: right;\">\n",
       "      <th></th>\n",
       "      <th>car_ID</th>\n",
       "      <th>enginesize</th>\n",
       "      <th>horsepower</th>\n",
       "      <th>citympg</th>\n",
       "      <th>highwaympg</th>\n",
       "      <th>price</th>\n",
       "    </tr>\n",
       "  </thead>\n",
       "  <tbody>\n",
       "    <tr>\n",
       "      <th>0</th>\n",
       "      <td>1</td>\n",
       "      <td>130</td>\n",
       "      <td>111</td>\n",
       "      <td>21</td>\n",
       "      <td>27</td>\n",
       "      <td>13495.0</td>\n",
       "    </tr>\n",
       "    <tr>\n",
       "      <th>1</th>\n",
       "      <td>2</td>\n",
       "      <td>130</td>\n",
       "      <td>111</td>\n",
       "      <td>21</td>\n",
       "      <td>27</td>\n",
       "      <td>16500.0</td>\n",
       "    </tr>\n",
       "    <tr>\n",
       "      <th>2</th>\n",
       "      <td>3</td>\n",
       "      <td>152</td>\n",
       "      <td>154</td>\n",
       "      <td>19</td>\n",
       "      <td>26</td>\n",
       "      <td>16500.0</td>\n",
       "    </tr>\n",
       "    <tr>\n",
       "      <th>3</th>\n",
       "      <td>4</td>\n",
       "      <td>109</td>\n",
       "      <td>102</td>\n",
       "      <td>24</td>\n",
       "      <td>30</td>\n",
       "      <td>13950.0</td>\n",
       "    </tr>\n",
       "    <tr>\n",
       "      <th>4</th>\n",
       "      <td>5</td>\n",
       "      <td>136</td>\n",
       "      <td>115</td>\n",
       "      <td>18</td>\n",
       "      <td>22</td>\n",
       "      <td>17450.0</td>\n",
       "    </tr>\n",
       "  </tbody>\n",
       "</table>\n",
       "</div>"
      ],
      "text/plain": [
       "   car_ID  enginesize  horsepower  citympg  highwaympg    price\n",
       "0       1         130         111       21          27  13495.0\n",
       "1       2         130         111       21          27  16500.0\n",
       "2       3         152         154       19          26  16500.0\n",
       "3       4         109         102       24          30  13950.0\n",
       "4       5         136         115       18          22  17450.0"
      ]
     },
     "execution_count": 92,
     "metadata": {},
     "output_type": "execute_result"
    }
   ],
   "source": [
    "# read the training data\n",
    "df_data = pd.read_csv('CarPrice_Assignment.csv')\n",
    "\n",
    "df_data.head()"
   ]
  },
  {
   "cell_type": "code",
   "execution_count": 93,
   "metadata": {},
   "outputs": [
    {
     "name": "stdout",
     "output_type": "stream",
     "text": [
      "<class 'pandas.core.frame.DataFrame'>\n",
      "RangeIndex: 205 entries, 0 to 204\n",
      "Data columns (total 6 columns):\n",
      " #   Column      Non-Null Count  Dtype  \n",
      "---  ------      --------------  -----  \n",
      " 0   car_ID      205 non-null    int64  \n",
      " 1   enginesize  205 non-null    int64  \n",
      " 2   horsepower  205 non-null    int64  \n",
      " 3   citympg     205 non-null    int64  \n",
      " 4   highwaympg  205 non-null    int64  \n",
      " 5   price       205 non-null    float64\n",
      "dtypes: float64(1), int64(5)\n",
      "memory usage: 9.7 KB\n"
     ]
    }
   ],
   "source": [
    "df_data.info()"
   ]
  },
  {
   "cell_type": "code",
   "execution_count": 94,
   "metadata": {},
   "outputs": [
    {
     "data": {
      "text/html": [
       "<div>\n",
       "<style scoped>\n",
       "    .dataframe tbody tr th:only-of-type {\n",
       "        vertical-align: middle;\n",
       "    }\n",
       "\n",
       "    .dataframe tbody tr th {\n",
       "        vertical-align: top;\n",
       "    }\n",
       "\n",
       "    .dataframe thead th {\n",
       "        text-align: right;\n",
       "    }\n",
       "</style>\n",
       "<table border=\"1\" class=\"dataframe\">\n",
       "  <thead>\n",
       "    <tr style=\"text-align: right;\">\n",
       "      <th></th>\n",
       "      <th>car_ID</th>\n",
       "      <th>enginesize</th>\n",
       "      <th>horsepower</th>\n",
       "      <th>citympg</th>\n",
       "      <th>highwaympg</th>\n",
       "      <th>price</th>\n",
       "    </tr>\n",
       "  </thead>\n",
       "  <tbody>\n",
       "    <tr>\n",
       "      <th>count</th>\n",
       "      <td>205.000000</td>\n",
       "      <td>205.000000</td>\n",
       "      <td>205.000000</td>\n",
       "      <td>205.000000</td>\n",
       "      <td>205.000000</td>\n",
       "      <td>205.000000</td>\n",
       "    </tr>\n",
       "    <tr>\n",
       "      <th>mean</th>\n",
       "      <td>103.000000</td>\n",
       "      <td>126.907317</td>\n",
       "      <td>104.117073</td>\n",
       "      <td>25.219512</td>\n",
       "      <td>30.751220</td>\n",
       "      <td>13276.710571</td>\n",
       "    </tr>\n",
       "    <tr>\n",
       "      <th>std</th>\n",
       "      <td>59.322565</td>\n",
       "      <td>41.642693</td>\n",
       "      <td>39.544167</td>\n",
       "      <td>6.542142</td>\n",
       "      <td>6.886443</td>\n",
       "      <td>7988.852332</td>\n",
       "    </tr>\n",
       "    <tr>\n",
       "      <th>min</th>\n",
       "      <td>1.000000</td>\n",
       "      <td>61.000000</td>\n",
       "      <td>48.000000</td>\n",
       "      <td>13.000000</td>\n",
       "      <td>16.000000</td>\n",
       "      <td>5118.000000</td>\n",
       "    </tr>\n",
       "    <tr>\n",
       "      <th>25%</th>\n",
       "      <td>52.000000</td>\n",
       "      <td>97.000000</td>\n",
       "      <td>70.000000</td>\n",
       "      <td>19.000000</td>\n",
       "      <td>25.000000</td>\n",
       "      <td>7788.000000</td>\n",
       "    </tr>\n",
       "    <tr>\n",
       "      <th>50%</th>\n",
       "      <td>103.000000</td>\n",
       "      <td>120.000000</td>\n",
       "      <td>95.000000</td>\n",
       "      <td>24.000000</td>\n",
       "      <td>30.000000</td>\n",
       "      <td>10295.000000</td>\n",
       "    </tr>\n",
       "    <tr>\n",
       "      <th>75%</th>\n",
       "      <td>154.000000</td>\n",
       "      <td>141.000000</td>\n",
       "      <td>116.000000</td>\n",
       "      <td>30.000000</td>\n",
       "      <td>34.000000</td>\n",
       "      <td>16503.000000</td>\n",
       "    </tr>\n",
       "    <tr>\n",
       "      <th>max</th>\n",
       "      <td>205.000000</td>\n",
       "      <td>326.000000</td>\n",
       "      <td>288.000000</td>\n",
       "      <td>49.000000</td>\n",
       "      <td>54.000000</td>\n",
       "      <td>45400.000000</td>\n",
       "    </tr>\n",
       "  </tbody>\n",
       "</table>\n",
       "</div>"
      ],
      "text/plain": [
       "           car_ID  enginesize  horsepower     citympg  highwaympg  \\\n",
       "count  205.000000  205.000000  205.000000  205.000000  205.000000   \n",
       "mean   103.000000  126.907317  104.117073   25.219512   30.751220   \n",
       "std     59.322565   41.642693   39.544167    6.542142    6.886443   \n",
       "min      1.000000   61.000000   48.000000   13.000000   16.000000   \n",
       "25%     52.000000   97.000000   70.000000   19.000000   25.000000   \n",
       "50%    103.000000  120.000000   95.000000   24.000000   30.000000   \n",
       "75%    154.000000  141.000000  116.000000   30.000000   34.000000   \n",
       "max    205.000000  326.000000  288.000000   49.000000   54.000000   \n",
       "\n",
       "              price  \n",
       "count    205.000000  \n",
       "mean   13276.710571  \n",
       "std     7988.852332  \n",
       "min     5118.000000  \n",
       "25%     7788.000000  \n",
       "50%    10295.000000  \n",
       "75%    16503.000000  \n",
       "max    45400.000000  "
      ]
     },
     "execution_count": 94,
     "metadata": {},
     "output_type": "execute_result"
    }
   ],
   "source": [
    "\n",
    "df_data.describe()  #looking at the file, we are only focusing on the engine size, horsepower, citympg, highway mpg"
   ]
  },
  {
   "cell_type": "code",
   "execution_count": 95,
   "metadata": {},
   "outputs": [
    {
     "data": {
      "text/plain": [
       "(205,)"
      ]
     },
     "execution_count": 95,
     "metadata": {},
     "output_type": "execute_result"
    }
   ],
   "source": [
    "y_np = df_data['price'].to_numpy()\n",
    "y_np.shape"
   ]
  },
  {
   "cell_type": "code",
   "execution_count": 96,
   "metadata": {},
   "outputs": [
    {
     "data": {
      "text/html": [
       "<div>\n",
       "<style scoped>\n",
       "    .dataframe tbody tr th:only-of-type {\n",
       "        vertical-align: middle;\n",
       "    }\n",
       "\n",
       "    .dataframe tbody tr th {\n",
       "        vertical-align: top;\n",
       "    }\n",
       "\n",
       "    .dataframe thead th {\n",
       "        text-align: right;\n",
       "    }\n",
       "</style>\n",
       "<table border=\"1\" class=\"dataframe\">\n",
       "  <thead>\n",
       "    <tr style=\"text-align: right;\">\n",
       "      <th></th>\n",
       "      <th>enginesize</th>\n",
       "      <th>horsepower</th>\n",
       "      <th>citympg</th>\n",
       "      <th>highwaympg</th>\n",
       "      <th>price</th>\n",
       "    </tr>\n",
       "  </thead>\n",
       "  <tbody>\n",
       "    <tr>\n",
       "      <th>enginesize</th>\n",
       "      <td>1.000000</td>\n",
       "      <td>0.809769</td>\n",
       "      <td>-0.653658</td>\n",
       "      <td>-0.677470</td>\n",
       "      <td>0.874145</td>\n",
       "    </tr>\n",
       "    <tr>\n",
       "      <th>horsepower</th>\n",
       "      <td>0.809769</td>\n",
       "      <td>1.000000</td>\n",
       "      <td>-0.801456</td>\n",
       "      <td>-0.770544</td>\n",
       "      <td>0.808139</td>\n",
       "    </tr>\n",
       "    <tr>\n",
       "      <th>citympg</th>\n",
       "      <td>-0.653658</td>\n",
       "      <td>-0.801456</td>\n",
       "      <td>1.000000</td>\n",
       "      <td>0.971337</td>\n",
       "      <td>-0.685751</td>\n",
       "    </tr>\n",
       "    <tr>\n",
       "      <th>highwaympg</th>\n",
       "      <td>-0.677470</td>\n",
       "      <td>-0.770544</td>\n",
       "      <td>0.971337</td>\n",
       "      <td>1.000000</td>\n",
       "      <td>-0.697599</td>\n",
       "    </tr>\n",
       "    <tr>\n",
       "      <th>price</th>\n",
       "      <td>0.874145</td>\n",
       "      <td>0.808139</td>\n",
       "      <td>-0.685751</td>\n",
       "      <td>-0.697599</td>\n",
       "      <td>1.000000</td>\n",
       "    </tr>\n",
       "  </tbody>\n",
       "</table>\n",
       "</div>"
      ],
      "text/plain": [
       "            enginesize  horsepower   citympg  highwaympg     price\n",
       "enginesize    1.000000    0.809769 -0.653658   -0.677470  0.874145\n",
       "horsepower    0.809769    1.000000 -0.801456   -0.770544  0.808139\n",
       "citympg      -0.653658   -0.801456  1.000000    0.971337 -0.685751\n",
       "highwaympg   -0.677470   -0.770544  0.971337    1.000000 -0.697599\n",
       "price         0.874145    0.808139 -0.685751   -0.697599  1.000000"
      ]
     },
     "execution_count": 96,
     "metadata": {},
     "output_type": "execute_result"
    }
   ],
   "source": [
    "X_np = df_data[['enginesize','horsepower', 'citympg', 'highwaympg']].to_numpy()  #we are only looking at these features \n",
    "\n",
    "df_data[['enginesize','horsepower', 'citympg', 'highwaympg', 'price']].corr()  #now we want to inlcude the price to see how they correlate "
   ]
  },
  {
   "cell_type": "code",
   "execution_count": 97,
   "metadata": {},
   "outputs": [
    {
     "name": "stdout",
     "output_type": "stream",
     "text": [
      "car_ID       -0.109093\n",
      "enginesize    0.874145\n",
      "horsepower    0.808139\n",
      "citympg      -0.685751\n",
      "highwaympg   -0.697599\n",
      "price         1.000000\n",
      "Name: price, dtype: float64\n",
      "['enginesize', 'horsepower', 'citympg', 'highwaympg', 'price']\n"
     ]
    }
   ],
   "source": [
    "df_corr=df_data.corr()\n",
    "select_columns=df_corr['price'][np.abs(df_corr['price'])>=0.03]\n",
    "print(select_columns)\n",
    "select_columns=select_columns.index.to_list()[1:]\n",
    "print(select_columns)"
   ]
  },
  {
   "cell_type": "code",
   "execution_count": 98,
   "metadata": {},
   "outputs": [
    {
     "name": "stdout",
     "output_type": "stream",
     "text": [
      "(205,)\n",
      "(205, 5)\n"
     ]
    }
   ],
   "source": [
    "y_np = df_data['price'].to_numpy()\n",
    "print(y_np.shape)\n",
    "x_np = df_data[select_columns].to_numpy()\n",
    "print(x_np.shape)"
   ]
  },
  {
   "cell_type": "code",
   "execution_count": 99,
   "metadata": {},
   "outputs": [],
   "source": [
    "corr_with_output = abs(df_corr['price']).sort_values(ascending=False)[1:]\n",
    "selected_features = corr_with_output[corr_with_output >= 0.2].index\n",
    "\n",
    "# Check for high intercorrelation among the selected features\n",
    "selected_corr = df_corr.loc[selected_features, selected_features]\n",
    "drop_features = [col for col in selected_features if any(selected_corr[col].abs() >= 0.8)]\n",
    "\n",
    "# Drop the highly intercorrelated features\n",
    "selected_features = [feat for feat in selected_features if feat not in drop_features]\n",
    "\n",
    "# Extract the selected features\n",
    "X_np = df_data[selected_features].to_numpy()\n"
   ]
  },
  {
   "cell_type": "code",
   "execution_count": 100,
   "metadata": {},
   "outputs": [
    {
     "ename": "ModuleNotFoundError",
     "evalue": "No module named 'sklearn'",
     "output_type": "error",
     "traceback": [
      "\u001b[1;31m---------------------------------------------------------------------------\u001b[0m",
      "\u001b[1;31mModuleNotFoundError\u001b[0m                       Traceback (most recent call last)",
      "Cell \u001b[1;32mIn[100], line 1\u001b[0m\n\u001b[1;32m----> 1\u001b[0m \u001b[38;5;28;01mimport\u001b[39;00m \u001b[38;5;21;01msklearn\u001b[39;00m \n\u001b[0;32m      2\u001b[0m \u001b[38;5;28;01mfrom\u001b[39;00m \u001b[38;5;21;01msklearn\u001b[39;00m\u001b[38;5;21;01m.\u001b[39;00m\u001b[38;5;21;01mmodel_selection\u001b[39;00m \u001b[38;5;28;01mimport\u001b[39;00m train_test_split\n\u001b[0;32m      3\u001b[0m \u001b[38;5;28;01mimport\u001b[39;00m \u001b[38;5;21;01mtorch\u001b[39;00m \u001b[38;5;28;01mas\u001b[39;00m \u001b[38;5;21;01mt\u001b[39;00m \n",
      "\u001b[1;31mModuleNotFoundError\u001b[0m: No module named 'sklearn'"
     ]
    }
   ],
   "source": [
    "import sklearn \n",
    "from sklearn.model_selection import train_test_split\n",
    "import torch as t \n",
    "\n",
    "X_train_np, X_test_np, y_train_np, y_test_np = train_test_split(x_np, y_np, test_size = 0.2, random_state = 42)\n",
    "\n",
    "\n",
    "from sklearn.preprocessing import StandardScaler\n",
    "\n",
    "\n",
    "x_scaler = StandardScaler()\n",
    "x_scaler = x_scaler.fit(X_train_np)\n",
    "# print(x_scaler)\n",
    "X_train_norm_np = x_scaler.transform(X_train_np)\n",
    "X_test_norm_np  = x_scaler.transform(X_test_np)\n",
    "#X_test_norm_transform(X_train_np)\n",
    "\n",
    "y_scaler = StandardScaler()\n",
    "y_scaler = y_scaler.fit(y_train_np.reshape(-1,1))\n",
    "print(y_scaler.mean_, y_scaler.var_)\n",
    "y_train_norm_np = y_scaler.transform(y_train_np.reshape(-1,1))\n",
    "y_test_norm_np  = y_scaler.transform(y_test_np.reshape(-1,1))\n",
    "#y_train_norm_np ="
   ]
  },
  {
   "cell_type": "code",
   "execution_count": 104,
   "metadata": {},
   "outputs": [
    {
     "ename": "NameError",
     "evalue": "name 't' is not defined",
     "output_type": "error",
     "traceback": [
      "\u001b[1;31m---------------------------------------------------------------------------\u001b[0m",
      "\u001b[1;31mNameError\u001b[0m                                 Traceback (most recent call last)",
      "Cell \u001b[1;32mIn[104], line 3\u001b[0m\n\u001b[0;32m      1\u001b[0m \u001b[38;5;66;03m# convert to tensors (pytorch)\u001b[39;00m\n\u001b[0;32m      2\u001b[0m \u001b[38;5;66;03m# convert data from numpy to tensors\u001b[39;00m\n\u001b[1;32m----> 3\u001b[0m X_t_train \u001b[38;5;241m=\u001b[39m \u001b[43mt\u001b[49m\u001b[38;5;241m.\u001b[39mfrom_numpy(X_train_norm_np)\u001b[38;5;241m.\u001b[39mfloat()\n\u001b[0;32m      4\u001b[0m y_t_train \u001b[38;5;241m=\u001b[39m t\u001b[38;5;241m.\u001b[39mflatten(t\u001b[38;5;241m.\u001b[39mfrom_numpy(y_train_norm_np)\u001b[38;5;241m.\u001b[39mfloat()) \u001b[38;5;66;03m# flatten - creates a one dimensional tensor\u001b[39;00m\n\u001b[0;32m      5\u001b[0m X_t_test   \u001b[38;5;241m=\u001b[39m t\u001b[38;5;241m.\u001b[39mfrom_numpy(X_test_norm_np)\u001b[38;5;241m.\u001b[39mfloat()\n",
      "\u001b[1;31mNameError\u001b[0m: name 't' is not defined"
     ]
    }
   ],
   "source": [
    "# convert to tensors (pytorch)\n",
    "# convert data from numpy to tensors\n",
    "X_t_train = t.from_numpy(X_train_norm_np).float()\n",
    "y_t_train = t.flatten(t.from_numpy(y_train_norm_np).float()) # flatten - creates a one dimensional tensor\n",
    "X_t_test   = t.from_numpy(X_test_norm_np).float()\n",
    "y_t_test   = t.flatten(t.from_numpy(y_test_norm_np).float())\n",
    "\n",
    "print(X_t_train.shape, y_t_train.shape)\n",
    "print(X_t_train.dtype, y_t_train.dtype)\n",
    "print(X_t_test.shape,   y_t_test.shape)\n",
    "print(X_t_test.dtype,   y_t_test.dtype)"
   ]
  },
  {
   "cell_type": "code",
   "execution_count": null,
   "metadata": {},
   "outputs": [
    {
     "ename": "OSError",
     "evalue": "[WinError 126] The specified module could not be found. Error loading \"C:\\Users\\mytra\\AppData\\Local\\Packages\\PythonSoftwareFoundation.Python.3.11_qbz5n2kfra8p0\\LocalCache\\local-packages\\Python311\\site-packages\\torch\\lib\\shm.dll\" or one of its dependencies.",
     "output_type": "error",
     "traceback": [
      "\u001b[1;31m---------------------------------------------------------------------------\u001b[0m",
      "\u001b[1;31mOSError\u001b[0m                                   Traceback (most recent call last)",
      "Cell \u001b[1;32mIn[103], line 1\u001b[0m\n\u001b[1;32m----> 1\u001b[0m \u001b[38;5;28;01mimport\u001b[39;00m \u001b[38;5;21;01mtorch\u001b[39;00m\u001b[38;5;21;01m.\u001b[39;00m\u001b[38;5;21;01mnn\u001b[39;00m\u001b[38;5;21;01m.\u001b[39;00m\u001b[38;5;21;01mfunctional\u001b[39;00m \u001b[38;5;28;01mas\u001b[39;00m \u001b[38;5;21;01mF\u001b[39;00m\n\u001b[0;32m      2\u001b[0m \u001b[38;5;28;01mimport\u001b[39;00m \u001b[38;5;21;01mtorch\u001b[39;00m\u001b[38;5;21;01m.\u001b[39;00m\u001b[38;5;21;01mnn\u001b[39;00m \u001b[38;5;28;01mas\u001b[39;00m \u001b[38;5;21;01mnn\u001b[39;00m\n\u001b[0;32m      3\u001b[0m \u001b[38;5;28;01mfrom\u001b[39;00m   \u001b[38;5;21;01mtorch\u001b[39;00m\u001b[38;5;21;01m.\u001b[39;00m\u001b[38;5;21;01mautograd\u001b[39;00m \u001b[38;5;28;01mimport\u001b[39;00m Variable\n",
      "File \u001b[1;32m~\\AppData\\Local\\Packages\\PythonSoftwareFoundation.Python.3.11_qbz5n2kfra8p0\\LocalCache\\local-packages\\Python311\\site-packages\\torch\\__init__.py:141\u001b[0m\n\u001b[0;32m    139\u001b[0m                 err \u001b[38;5;241m=\u001b[39m ctypes\u001b[38;5;241m.\u001b[39mWinError(ctypes\u001b[38;5;241m.\u001b[39mget_last_error())\n\u001b[0;32m    140\u001b[0m                 err\u001b[38;5;241m.\u001b[39mstrerror \u001b[38;5;241m+\u001b[39m\u001b[38;5;241m=\u001b[39m \u001b[38;5;124mf\u001b[39m\u001b[38;5;124m'\u001b[39m\u001b[38;5;124m Error loading \u001b[39m\u001b[38;5;124m\"\u001b[39m\u001b[38;5;132;01m{\u001b[39;00mdll\u001b[38;5;132;01m}\u001b[39;00m\u001b[38;5;124m\"\u001b[39m\u001b[38;5;124m or one of its dependencies.\u001b[39m\u001b[38;5;124m'\u001b[39m\n\u001b[1;32m--> 141\u001b[0m                 \u001b[38;5;28;01mraise\u001b[39;00m err\n\u001b[0;32m    143\u001b[0m     kernel32\u001b[38;5;241m.\u001b[39mSetErrorMode(prev_error_mode)\n\u001b[0;32m    146\u001b[0m \u001b[38;5;28;01mdef\u001b[39;00m \u001b[38;5;21m_preload_cuda_deps\u001b[39m(lib_folder, lib_name):\n",
      "\u001b[1;31mOSError\u001b[0m: [WinError 126] The specified module could not be found. Error loading \"C:\\Users\\mytra\\AppData\\Local\\Packages\\PythonSoftwareFoundation.Python.3.11_qbz5n2kfra8p0\\LocalCache\\local-packages\\Python311\\site-packages\\torch\\lib\\shm.dll\" or one of its dependencies."
     ]
    }
   ],
   "source": [
    "import torch.nn.functional as F\n",
    "import torch.nn as nn\n",
    "from   torch.autograd import Variable\n",
    "\n",
    "class Model(nn.Module):\n",
    "    def __init__(self, input_dim = 5):\n",
    "        super(Model, self).__init__()\n",
    "        self.layer1   = nn.Linear(in_features = input_dim, out_features = 50)\n",
    "        #self.dropout1 = nn.Dropout(p = 0.3) # drop 30% of output nodes from the previous layer during training only\n",
    "        self.layer2   = nn.Linear(in_features= 50, out_features = 20)\n",
    "        #self.dropout2 = nn.Dropout(p = 0.25)\n",
    "        self.layer3   = nn.Linear(in_features = 20, out_features = 1) # 3 neurons = one for each class\n",
    "\n",
    "\n",
    "    def forward(self, x): # x input vector of size 7\n",
    "        x = F.relu(self.layer1(x)) # x = vector of size 50\n",
    "        #x = self.dropout1(x)\n",
    "        x = F.relu(self.layer2(x)) #\n",
    "        #x = self.dropout2(x)\n",
    "        x = self.layer3(x) # x = one value linear output neuron\n",
    "        return x"
   ]
  },
  {
   "cell_type": "code",
   "execution_count": null,
   "metadata": {},
   "outputs": [
    {
     "ename": "NameError",
     "evalue": "name 'Model' is not defined",
     "output_type": "error",
     "traceback": [
      "\u001b[1;31m---------------------------------------------------------------------------\u001b[0m",
      "\u001b[1;31mNameError\u001b[0m                                 Traceback (most recent call last)",
      "Cell \u001b[1;32mIn[102], line 2\u001b[0m\n\u001b[0;32m      1\u001b[0m \u001b[38;5;66;03m# create a Model\u001b[39;00m\n\u001b[1;32m----> 2\u001b[0m model \u001b[38;5;241m=\u001b[39m \u001b[43mModel\u001b[49m(input_dim \u001b[38;5;241m=\u001b[39m \u001b[38;5;241m5\u001b[39m)\n\u001b[0;32m      3\u001b[0m \u001b[38;5;28mprint\u001b[39m(model)\n",
      "\u001b[1;31mNameError\u001b[0m: name 'Model' is not defined"
     ]
    }
   ],
   "source": [
    "# create a Model\n",
    "model = Model(input_dim = 5)\n",
    "print(model)"
   ]
  },
  {
   "cell_type": "code",
   "execution_count": null,
   "metadata": {},
   "outputs": [
    {
     "ename": "NameError",
     "evalue": "name 'model' is not defined",
     "output_type": "error",
     "traceback": [
      "\u001b[1;31m---------------------------------------------------------------------------\u001b[0m",
      "\u001b[1;31mNameError\u001b[0m                                 Traceback (most recent call last)",
      "Cell \u001b[1;32mIn[101], line 1\u001b[0m\n\u001b[1;32m----> 1\u001b[0m test_out \u001b[38;5;241m=\u001b[39m \u001b[43mmodel\u001b[49m(X_t_train[:\u001b[38;5;241m5\u001b[39m,:])\n\u001b[0;32m      2\u001b[0m \u001b[38;5;28mprint\u001b[39m(test_out, y_t_train[:\u001b[38;5;241m5\u001b[39m], test_out\u001b[38;5;241m.\u001b[39mshape)\n",
      "\u001b[1;31mNameError\u001b[0m: name 'model' is not defined"
     ]
    }
   ],
   "source": [
    "test_out = model(X_t_train[:5,:])\n",
    "print(test_out, y_t_train[:5], test_out.shape)"
   ]
  },
  {
   "cell_type": "code",
   "execution_count": 105,
   "metadata": {},
   "outputs": [],
   "source": [
    "# write the training loop:\n",
    "def train(model, optim, loss, train_loader, test_loader, n_epochs = 5):\n",
    "    for e in range(n_epochs):\n",
    "\n",
    "          total_train_loss = 0\n",
    "          # set model in learning mode\n",
    "          model.train()\n",
    "          # for each batch in train_loader\n",
    "          for xb,yb in train_loader:\n",
    "        #    forward pass\n",
    "               y_model = model.forward(xb)\n",
    "        #    compute the loss on the batch output\n",
    "               loss_batch = loss(y_model.flatten(),yb)\n",
    "               total_train_loss += loss_batch\n",
    "        #    compute gradients\n",
    "               optim.zero_grad() # sets gradients to 0\n",
    "               loss_batch.backward() # compute gradients\n",
    "        #    backward pass - updates the weights (parameters) of the model\n",
    "               optim.step()\n",
    "        #    backward pass - updates the weights (parameters) of the model\n",
    "        # set model in test mode\n",
    "\n",
    "          total_test_loss = 0.0\n",
    "        # for each batch in test_loader:\n",
    "          model.eval() # set model in evaluation mode = no dropout\n",
    "          with t.no_grad():\n",
    "               for xt, yt in test_loader:\n",
    "        #    forward pass\n",
    "                    y_model = model.forward(xt)\n",
    "        #    compute the loss on the batch\n",
    "                    loss_batch = loss(y_model.flatten(), yt)\n",
    "                    total_test_loss += loss_batch\n",
    "\n",
    "          print(\"Epoch = \", e, \"\\tTrain loss = \", total_train_loss, \"\\tTest loss = \", total_test_loss)\n"
   ]
  },
  {
   "cell_type": "code",
   "execution_count": 107,
   "metadata": {},
   "outputs": [
    {
     "ename": "NameError",
     "evalue": "name 'X_t_train' is not defined",
     "output_type": "error",
     "traceback": [
      "\u001b[1;31m---------------------------------------------------------------------------\u001b[0m",
      "\u001b[1;31mNameError\u001b[0m                                 Traceback (most recent call last)",
      "Cell \u001b[1;32mIn[107], line 4\u001b[0m\n\u001b[0;32m      1\u001b[0m \u001b[38;5;66;03m# prepare the data loaders\u001b[39;00m\n\u001b[0;32m      2\u001b[0m \u001b[38;5;66;03m# DataLoader = a class that shuffles the data and splits in into batches\u001b[39;00m\n\u001b[0;32m      3\u001b[0m \u001b[38;5;66;03m# you should use it during training (SGD - accumulate error over batches of data )\u001b[39;00m\n\u001b[1;32m----> 4\u001b[0m train_data \u001b[38;5;241m=\u001b[39m [(X_t_train[i], y_t_train[i]) \u001b[38;5;28;01mfor\u001b[39;00m i \u001b[38;5;129;01min\u001b[39;00m \u001b[38;5;28mrange\u001b[39m(\u001b[43mX_t_train\u001b[49m\u001b[38;5;241m.\u001b[39mshape[\u001b[38;5;241m0\u001b[39m])]\n\u001b[0;32m      5\u001b[0m \u001b[38;5;28mprint\u001b[39m(\u001b[38;5;124m\"\u001b[39m\u001b[38;5;124mSample train_data = \u001b[39m\u001b[38;5;124m\"\u001b[39m, train_data[:\u001b[38;5;241m3\u001b[39m], \u001b[38;5;124m\"\u001b[39m\u001b[38;5;124m type = \u001b[39m\u001b[38;5;124m\"\u001b[39m, \u001b[38;5;28mtype\u001b[39m(train_data))\n\u001b[0;32m      6\u001b[0m train_loader \u001b[38;5;241m=\u001b[39m t\u001b[38;5;241m.\u001b[39mutils\u001b[38;5;241m.\u001b[39mdata\u001b[38;5;241m.\u001b[39mDataLoader(train_data, batch_size \u001b[38;5;241m=\u001b[39m \u001b[38;5;241m32\u001b[39m, shuffle\u001b[38;5;241m=\u001b[39m\u001b[38;5;28;01mTrue\u001b[39;00m)\n",
      "\u001b[1;31mNameError\u001b[0m: name 'X_t_train' is not defined"
     ]
    }
   ],
   "source": [
    "# prepare the data loaders\n",
    "# DataLoader = a class that shuffles the data and splits in into batches\n",
    "# you should use it during training (SGD - accumulate error over batches of data )\n",
    "train_data = [(X_t_train[i], y_t_train[i]) for i in range(X_t_train.shape[0])]\n",
    "print(\"Sample train_data = \", train_data[:3], \" type = \", type(train_data))\n",
    "train_loader = t.utils.data.DataLoader(train_data, batch_size = 32, shuffle=True)\n",
    "for x,label in train_loader:  # shuffles the data\n",
    "     print(x.shape,label.shape)\n",
    "     break\n",
    "#print(train_data[0][0].shape)\n",
    "test_data = [(X_t_test[i], y_t_test[i]) for i in range(X_t_test.shape[0])]\n",
    "#print(\"Sample train_data = \", test_data[:3], \" type = \", type(test_data))\n",
    "test_loader = t.utils.data.DataLoader(test_data, batch_size = 32, shuffle=True)"
   ]
  },
  {
   "cell_type": "code",
   "execution_count": 108,
   "metadata": {},
   "outputs": [
    {
     "ename": "NameError",
     "evalue": "name 'y_t_train' is not defined",
     "output_type": "error",
     "traceback": [
      "\u001b[1;31m---------------------------------------------------------------------------\u001b[0m",
      "\u001b[1;31mNameError\u001b[0m                                 Traceback (most recent call last)",
      "Cell \u001b[1;32mIn[108], line 1\u001b[0m\n\u001b[1;32m----> 1\u001b[0m \u001b[43my_t_train\u001b[49m\u001b[38;5;241m.\u001b[39mshape\n\u001b[0;32m      3\u001b[0m \u001b[38;5;66;03m# train the model\u001b[39;00m\n\u001b[0;32m      4\u001b[0m model1 \u001b[38;5;241m=\u001b[39m Model(input_dim \u001b[38;5;241m=\u001b[39m \u001b[38;5;241m7\u001b[39m)\n",
      "\u001b[1;31mNameError\u001b[0m: name 'y_t_train' is not defined"
     ]
    }
   ],
   "source": [
    "y_t_train.shape\n",
    "\n",
    "# train the model\n",
    "model1 = Model(input_dim = 7)\n",
    "optim  = t.optim.Adam(model1.parameters(), lr = 0.)\n",
    "loss   = nn.MSELoss()\n",
    "\n",
    "train(model, optim, loss, train_loader, test_loader, n_epochs = 10)"
   ]
  },
  {
   "cell_type": "code",
   "execution_count": 109,
   "metadata": {},
   "outputs": [
    {
     "data": {
      "text/plain": [
       "Index(['car_ID', 'enginesize', 'horsepower', 'citympg', 'highwaympg'], dtype='object')"
      ]
     },
     "execution_count": 109,
     "metadata": {},
     "output_type": "execute_result"
    }
   ],
   "source": [
    "# extract numeric columns\n",
    "df_numeric = df_data.select_dtypes(['int64'])\n",
    "df_numeric.columns"
   ]
  }
 ],
 "metadata": {
  "kernelspec": {
   "display_name": "Python 3",
   "language": "python",
   "name": "python3"
  },
  "language_info": {
   "codemirror_mode": {
    "name": "ipython",
    "version": 3
   },
   "file_extension": ".py",
   "mimetype": "text/x-python",
   "name": "python",
   "nbconvert_exporter": "python",
   "pygments_lexer": "ipython3",
   "version": "3.11.9"
  }
 },
 "nbformat": 4,
 "nbformat_minor": 2
}
