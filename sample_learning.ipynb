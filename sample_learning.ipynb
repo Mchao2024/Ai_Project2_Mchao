{
 "cells": [
  {
   "cell_type": "code",
   "execution_count": null,
   "metadata": {},
   "outputs": [],
   "source": [
    "!pip3 install torch torchvision"
   ]
  },
  {
   "cell_type": "code",
   "execution_count": 36,
   "metadata": {},
   "outputs": [
    {
     "name": "stdout",
     "output_type": "stream",
     "text": [
      "/usr/local/opt/python@3.9/bin/python3.9\n",
      "3.9.4 (default, Apr  5 2021, 01:47:16) \n",
      "[Clang 11.0.0 (clang-1100.0.33.17)]\n",
      "sys.version_info(major=3, minor=9, micro=4, releaselevel='final', serial=0)\n"
     ]
    }
   ],
   "source": [
    "import sys\n",
    "print(sys.executable)\n",
    "print(sys.version)\n",
    "print(sys.version_info)"
   ]
  },
  {
   "cell_type": "code",
   "execution_count": 37,
   "metadata": {},
   "outputs": [
    {
     "name": "stdout",
     "output_type": "stream",
     "text": [
      "torch.Size([11]) torch.Size([11])\n"
     ]
    },
    {
     "data": {
      "image/png": "[encoded data removed]",
      "text/plain": [
       "<Figure size 432x288 with 1 Axes>"
      ]
     },
     "metadata": {
      "needs_background": "light"
     },
     "output_type": "display_data"
    }
   ],
   "source": [
    "import numpy as np\n",
    "import torch as t\n",
    "from matplotlib import pyplot as plt\n",
    "x_s =  [0.5, 14.0, 15.0, 28.0, 11.0, 8.0, 3.0, -4.0, 6.0, 13.0, 21.0]\n",
    "y_s = [35.7, 55.9, 58.2, 81.9, 56.3, 48.9, 33.9, 21.8, 48.4, 60.4, 68.4]\n",
    "x_t = t.tensor(x_s)\n",
    "y_t = t.tensor(y_s)\n",
    "print(x_t.shape, y_t.shape)\n",
    "plt.plot(x_s,y_s,'*')\n",
    "plt.show()\n"
   ]
  },
  {
   "cell_type": "code",
   "execution_count": 46,
   "metadata": {},
   "outputs": [
    {
     "data": {
      "text/plain": [
       "tensor([-1.0856,  0.3800,  0.4885,  1.8998,  0.0543, -0.2714, -0.8142, -1.5741,\n",
       "        -0.4885,  0.2714,  1.1399])"
      ]
     },
     "execution_count": 46,
     "metadata": {},
     "output_type": "execute_result"
    }
   ],
   "source": [
    "# normalize the data\n",
    "from torch.nn.functional import normalize\n",
    "x_n = (x_t - t.mean(x_t))/t.std(x_t) # normalize(x_t, 2, dim = 0)# (x_t - t.mean(x_t))/t.std(x_t)\n",
    "x_n\n"
   ]
  },
  {
   "cell_type": "code",
   "execution_count": 47,
   "metadata": {},
   "outputs": [
    {
     "data": {
      "text/plain": [
       "tensor([1.4972, 2.6973, 2.8339, 4.2419, 2.7210, 2.2814, 1.3902, 0.6713, 2.2517,\n",
       "        2.9646, 3.4399])"
      ]
     },
     "execution_count": 47,
     "metadata": {},
     "output_type": "execute_result"
    }
   ],
   "source": [
    "y_n = (y_t - t.mean(x_t))/t.std(y_t)\n",
    "y_n"
   ]
  },
  {
   "cell_type": "code",
   "execution_count": 38,
   "metadata": {},
   "outputs": [],
   "source": [
    "# define a linear model y = w * x + b (a line)\n",
    "# find parameters a and b that minimize the error between the points \n",
    "# and the line\n",
    "def model(x, w, b): \n",
    "    return w * x + b\n",
    "\n",
    "# error (mean squared error)\n",
    "# y_predict is a tensor (a vector of values) comes from the model, \n",
    "# y_true = true values - come from the training data \n",
    "def loss_fn(y_predict, y_true):\n",
    "    squared_diffs = (y_predict - y_true)**2  # tensor of  errors\n",
    "    return squared_diffs.mean() # sum of errors/# points\n",
    "\n"
   ]
  },
  {
   "cell_type": "code",
   "execution_count": 49,
   "metadata": {},
   "outputs": [
    {
     "name": "stdout",
     "output_type": "stream",
     "text": [
      "tensor(0.1000) tensor(0.)\n"
     ]
    },
    {
     "data": {
      "image/png": "[encoded data removed]",
      "text/plain": [
       "<Figure size 432x288 with 1 Axes>"
      ]
     },
     "metadata": {
      "needs_background": "light"
     },
     "output_type": "display_data"
    },
    {
     "name": "stdout",
     "output_type": "stream",
     "text": [
      "Initial loss =  tensor(6.7603)\n"
     ]
    }
   ],
   "source": [
    "w = 0.1*t.ones(())  # w = 1\n",
    "b = 0.1*t.zeros(()) # b = 0\n",
    "print(w, b)\n",
    "y_p = model(x_n, w, b)\n",
    "plt.plot(x_n, y_p,'ro')\n",
    "plt.plot(x_n, y_n, 'b.')\n",
    "plt.show()\n",
    "\n",
    "# compute the error\n",
    "loss0 = loss_fn(y_p,y_n)\n",
    "print(\"Initial loss = \", loss0)"
   ]
  },
  {
   "cell_type": "code",
   "execution_count": 40,
   "metadata": {},
   "outputs": [],
   "source": [
    "# gradient of loss with respect to w and b\n",
    "# dLoss/dw = d (y_p - y_t)^2)/dw = dLoss/dy_p * dy_p/dw \n",
    "#          = 2 (y_p-y_t) * dy_p/dw = \n",
    "#          = 2 (y_p-y_t) * d(w*x_t + b)/dw = \n",
    "#          = 2 (y_p-y_t) * x_t\n",
    "# dLoss/db = d(y_p - y_t)^2/db= dLoss/dy_p * dy_p/db =\n",
    "#           = 2 (y_p-y_t) * dy_p/db =\n",
    "#           = 2 (y_p-y_t) * d(w*x_t + b)/db = \n",
    "#           = 2 (y_p-y_t) \n",
    "# d x^2 / d x = 2 x \n",
    "def grad_loss (y_p, y_t):\n",
    "    return 2*(y_p-y_t)/y_p.size(0)         # y_p.size(0) = n \n",
    "    \n",
    "def grad_w(x_t, w, b):\n",
    "    return x_t\n",
    "  \n",
    "def grad_b(x_t, w, b):\n",
    "    return 1.0\n"
   ]
  },
  {
   "cell_type": "code",
   "execution_count": 55,
   "metadata": {},
   "outputs": [],
   "source": [
    "# gradient descent\n",
    "def training_loop(n_epochs, learning_rate, w,b  , y_t, x_t, eps = 1e-3):\n",
    "    for epoch in range(1, n_epochs + 1):\n",
    "        # forward pass:\n",
    "        y_p  = model(x_t,w,b)   # compute the model's prediction for all x_t points\n",
    "        # backward pass\n",
    "        loss = loss_fn(y_p, y_t) \n",
    "        grad_all = grad_loss(y_p,y_t)  # tensor\n",
    "        w = w - learning_rate * (grad_all * grad_w(x_t, w, b)).sum()\n",
    "        b = b - learning_rate * (grad_all * grad_b(x_t, w, b)).sum()\n",
    "        if epoch % 5 == 0:\n",
    "            print('Epoch %d, Loss %f' % (epoch, float(loss) ) ) \n",
    "        if (loss < 1e-3):\n",
    "            break\n",
    "    return w,b"
   ]
  },
  {
   "cell_type": "code",
   "execution_count": 57,
   "metadata": {
    "tags": []
   },
   "outputs": [
    {
     "name": "stdout",
     "output_type": "stream",
     "text": [
      "Epoch 5, Loss 1.105566\n",
      "Epoch 10, Loss 0.153341\n",
      "Epoch 15, Loss 0.047779\n",
      "Epoch 20, Loss 0.035998\n",
      "Epoch 25, Loss 0.034674\n",
      "Epoch 30, Loss 0.034523\n",
      "Epoch 35, Loss 0.034506\n",
      "Epoch 40, Loss 0.034504\n",
      "Epoch 45, Loss 0.034504\n",
      "Epoch 50, Loss 0.034504\n",
      "Epoch 55, Loss 0.034504\n",
      "Epoch 60, Loss 0.034504\n",
      "Epoch 65, Loss 0.034504\n",
      "Epoch 70, Loss 0.034504\n",
      "Epoch 75, Loss 0.034504\n",
      "Epoch 80, Loss 0.034504\n",
      "Epoch 85, Loss 0.034504\n",
      "Epoch 90, Loss 0.034504\n",
      "Epoch 95, Loss 0.034504\n",
      "Epoch 100, Loss 0.034504\n"
     ]
    }
   ],
   "source": [
    "w = 0.1*t.ones(())  # w = 1\n",
    "b = 0.1*t.ones(()) # b = 0\n",
    "learning_rate = 0.1 # 0.005 # learning rate 0.1, 0.01 # change it to smaller values\n",
    "w_train, b_train = training_loop(100, learning_rate, w, b, y_n, x_n, 0.01)"
   ]
  },
  {
   "cell_type": "code",
   "execution_count": 58,
   "metadata": {},
   "outputs": [
    {
     "name": "stdout",
     "output_type": "stream",
     "text": [
      "tensor(0.9808)\n",
      "tensor(2.4537)\n"
     ]
    }
   ],
   "source": [
    "print(w_train)\n",
    "print(b_train)"
   ]
  },
  {
   "cell_type": "code",
   "execution_count": 60,
   "metadata": {},
   "outputs": [
    {
     "data": {
      "image/png": "[encoded data removed]",
      "text/plain": [
       "<Figure size 432x288 with 1 Axes>"
      ]
     },
     "metadata": {
      "needs_background": "light"
     },
     "output_type": "display_data"
    }
   ],
   "source": [
    "plt.plot(x_n, model(x_n, w_train, b_train), 'ro')\n",
    "plt.plot(x_n, y_n, 'b.')\n",
    "plt.show()"
   ]
  },
  {
   "cell_type": "code",
   "execution_count": null,
   "metadata": {},
   "outputs": [],
   "source": [
    "import torch.nn as nn   # neural network module \n",
    "import torch.optim as optim # optimization module (SGD)\n",
    "\n",
    "# nn.Linear(input_size, output_size, bias = True)\n",
    "linear_model = nn.Linear(1, 1) # one neuron similar to y = w*x + b\n",
    "                             # nn.Linear(2,1)  y = w1*x1 + w2*x2 + b\n",
    "                             # nn.Linear(2,2)  y1 = w11*x1 + w12*x2 + b1\n",
    "                             #                 y2 = w21*x1 + w22*x2 + b2\n",
    "print(linear_model.weight, linear_model.bias)\n",
    "print(linear_model.parameters)\n"
   ]
  },
  {
   "cell_type": "code",
   "execution_count": null,
   "metadata": {},
   "outputs": [],
   "source": [
    "x = t.ones(2,1)\n",
    "print(x, x.shape)\n",
    "linear_model(x)"
   ]
  },
  {
   "cell_type": "code",
   "execution_count": 62,
   "metadata": {},
   "outputs": [
    {
     "name": "stdout",
     "output_type": "stream",
     "text": [
      "tensor([ 7,  3, 10,  0,  8,  1,  2]) tensor([5, 9, 4, 6])\n"
     ]
    }
   ],
   "source": [
    "# split training - validation\n",
    "n_samples = x_t.shape[0]\n",
    "n_val = int(0.4 * n_samples) # 20 % of the samples for validation\n",
    "shuffled_indices = t.randperm(n_samples)\n",
    "train_indices = shuffled_indices[:-n_val]\n",
    "val_indices = shuffled_indices[-n_val:]\n",
    "print(train_indices, val_indices)\n"
   ]
  },
  {
   "cell_type": "code",
   "execution_count": 63,
   "metadata": {},
   "outputs": [
    {
     "name": "stdout",
     "output_type": "stream",
     "text": [
      "tensor([[-1.0856],\n",
      "        [ 0.3800],\n",
      "        [ 0.4885],\n",
      "        [ 1.8998],\n",
      "        [ 0.0543],\n",
      "        [-0.2714],\n",
      "        [-0.8142],\n",
      "        [-1.5741],\n",
      "        [-0.4885],\n",
      "        [ 0.2714],\n",
      "        [ 1.1399]])\n",
      "tensor([[1.4972],\n",
      "        [2.6973],\n",
      "        [2.8339],\n",
      "        [4.2419],\n",
      "        [2.7210],\n",
      "        [2.2814],\n",
      "        [1.3902],\n",
      "        [0.6713],\n",
      "        [2.2517],\n",
      "        [2.9646],\n",
      "        [3.4399]])\n"
     ]
    }
   ],
   "source": [
    "x_t_2d = x_n.unsqueeze(1) # adds a dimension\n",
    "y_t_2d = y_n.unsqueeze(1)\n",
    "print(x_t_2d)\n",
    "print(y_t_2d)\n",
    "\n",
    "x_t_train = x_t_2d[train_indices,:]\n",
    "x_t_val   = x_t_2d[val_indices,:]\n",
    "\n",
    "y_t_train = y_t_2d[train_indices,:]\n",
    "y_t_val   = y_t_2d[val_indices,:]"
   ]
  },
  {
   "cell_type": "code",
   "execution_count": 69,
   "metadata": {},
   "outputs": [],
   "source": [
    "\n",
    "def training_loop(n_epochs, optimizer, model, loss_fn, x_t_train, x_t_val,\n",
    "                  y_t_train, y_t_val, eps = 0.01):\n",
    "    for epoch in range(1, n_epochs + 1):\n",
    "        # forward pass training\n",
    "        y_p_train  = model(x_t_train)\n",
    "        loss_train = loss_fn(y_p_train, y_t_train)\n",
    " \n",
    "        \n",
    "        # backwards training\n",
    "        optimizer.zero_grad()  # sets gradients to 0 \n",
    "        loss_train.backward()  # gradients are computed \n",
    "        optimizer.step()       # parameters ar changed\n",
    "\n",
    "        if epoch == 1 or epoch % 10 == 0:\n",
    "            # forward pass validation\n",
    "            y_p_val    = model(x_t_val)\n",
    "            loss_val = loss_fn(y_p_val, y_t_val)\n",
    "            print(f\"Epoch {epoch}, Training loss {loss_train.item():.4f},\"\n",
    "f\" Validation loss {loss_val.item():.4f}\")\n",
    "        if loss_train < eps:\n",
    "            break;"
   ]
  },
  {
   "cell_type": "code",
   "execution_count": 70,
   "metadata": {},
   "outputs": [
    {
     "name": "stdout",
     "output_type": "stream",
     "text": [
      "<bound method Module.parameters of Linear(in_features=1, out_features=1, bias=True)>\n",
      "Epoch 1, Training loss 10.3472, Validation loss 5.8628\n",
      "tensor(10.3472, grad_fn=<MseLossBackward0>)\n",
      "tensor(8.0720, grad_fn=<MseLossBackward0>)\n",
      "tensor(6.3100, grad_fn=<MseLossBackward0>)\n",
      "tensor(4.9428, grad_fn=<MseLossBackward0>)\n",
      "tensor(3.8802, grad_fn=<MseLossBackward0>)\n",
      "tensor(3.0528, grad_fn=<MseLossBackward0>)\n",
      "tensor(2.4073, grad_fn=<MseLossBackward0>)\n",
      "tensor(1.9028, grad_fn=<MseLossBackward0>)\n",
      "tensor(1.5077, grad_fn=<MseLossBackward0>)\n",
      "tensor(1.1978, grad_fn=<MseLossBackward0>)\n",
      "tensor(0.9543, grad_fn=<MseLossBackward0>)\n",
      "tensor(0.7626, grad_fn=<MseLossBackward0>)\n",
      "tensor(0.6113, grad_fn=<MseLossBackward0>)\n",
      "tensor(0.4918, grad_fn=<MseLossBackward0>)\n",
      "tensor(0.3973, grad_fn=<MseLossBackward0>)\n",
      "tensor(0.3223, grad_fn=<MseLossBackward0>)\n",
      "tensor(0.2628, grad_fn=<MseLossBackward0>)\n",
      "tensor(0.2154, grad_fn=<MseLossBackward0>)\n",
      "tensor(0.1777, grad_fn=<MseLossBackward0>)\n",
      "tensor(0.1476, grad_fn=<MseLossBackward0>)\n",
      "tensor(0.1235, grad_fn=<MseLossBackward0>)\n",
      "tensor(0.1043, grad_fn=<MseLossBackward0>)\n",
      "tensor(0.0889, grad_fn=<MseLossBackward0>)\n",
      "tensor(0.0766, grad_fn=<MseLossBackward0>)\n",
      "tensor(0.0666, grad_fn=<MseLossBackward0>)\n",
      "tensor(0.0587, grad_fn=<MseLossBackward0>)\n",
      "tensor(0.0523, grad_fn=<MseLossBackward0>)\n",
      "tensor(0.0471, grad_fn=<MseLossBackward0>)\n",
      "tensor(0.0429, grad_fn=<MseLossBackward0>)\n",
      "tensor(0.0396, grad_fn=<MseLossBackward0>)\n",
      "tensor(0.0368, grad_fn=<MseLossBackward0>)\n",
      "tensor(0.0346, grad_fn=<MseLossBackward0>)\n",
      "tensor(0.0329, grad_fn=<MseLossBackward0>)\n",
      "tensor(0.0314, grad_fn=<MseLossBackward0>)\n",
      "tensor(0.0303, grad_fn=<MseLossBackward0>)\n",
      "tensor(0.0293, grad_fn=<MseLossBackward0>)\n",
      "tensor(0.0286, grad_fn=<MseLossBackward0>)\n",
      "tensor(0.0280, grad_fn=<MseLossBackward0>)\n",
      "tensor(0.0274, grad_fn=<MseLossBackward0>)\n",
      "tensor(0.0270, grad_fn=<MseLossBackward0>)\n",
      "tensor(0.0267, grad_fn=<MseLossBackward0>)\n",
      "tensor(0.0264, grad_fn=<MseLossBackward0>)\n",
      "tensor(0.0262, grad_fn=<MseLossBackward0>)\n",
      "tensor(0.0260, grad_fn=<MseLossBackward0>)\n",
      "tensor(0.0259, grad_fn=<MseLossBackward0>)\n",
      "tensor(0.0258, grad_fn=<MseLossBackward0>)\n",
      "tensor(0.0257, grad_fn=<MseLossBackward0>)\n",
      "tensor(0.0256, grad_fn=<MseLossBackward0>)\n",
      "tensor(0.0255, grad_fn=<MseLossBackward0>)\n",
      "tensor(0.0255, grad_fn=<MseLossBackward0>)\n",
      "tensor(0.0254, grad_fn=<MseLossBackward0>)\n",
      "tensor(0.0254, grad_fn=<MseLossBackward0>)\n",
      "tensor(0.0254, grad_fn=<MseLossBackward0>)\n",
      "tensor(0.0254, grad_fn=<MseLossBackward0>)\n",
      "tensor(0.0253, grad_fn=<MseLossBackward0>)\n",
      "tensor(0.0253, grad_fn=<MseLossBackward0>)\n",
      "tensor(0.0253, grad_fn=<MseLossBackward0>)\n",
      "tensor(0.0253, grad_fn=<MseLossBackward0>)\n",
      "tensor(0.0253, grad_fn=<MseLossBackward0>)\n",
      "tensor(0.0253, grad_fn=<MseLossBackward0>)\n",
      "tensor(0.0253, grad_fn=<MseLossBackward0>)\n",
      "tensor(0.0253, grad_fn=<MseLossBackward0>)\n",
      "tensor(0.0253, grad_fn=<MseLossBackward0>)\n",
      "tensor(0.0253, grad_fn=<MseLossBackward0>)\n",
      "tensor(0.0253, grad_fn=<MseLossBackward0>)\n",
      "tensor(0.0253, grad_fn=<MseLossBackward0>)\n",
      "tensor(0.0253, grad_fn=<MseLossBackward0>)\n",
      "tensor(0.0253, grad_fn=<MseLossBackward0>)\n",
      "tensor(0.0253, grad_fn=<MseLossBackward0>)\n",
      "tensor(0.0253, grad_fn=<MseLossBackward0>)\n",
      "tensor(0.0253, grad_fn=<MseLossBackward0>)\n",
      "tensor(0.0253, grad_fn=<MseLossBackward0>)\n",
      "tensor(0.0253, grad_fn=<MseLossBackward0>)\n",
      "tensor(0.0253, grad_fn=<MseLossBackward0>)\n",
      "tensor(0.0253, grad_fn=<MseLossBackward0>)\n",
      "tensor(0.0253, grad_fn=<MseLossBackward0>)\n",
      "tensor(0.0253, grad_fn=<MseLossBackward0>)\n",
      "tensor(0.0253, grad_fn=<MseLossBackward0>)\n",
      "tensor(0.0253, grad_fn=<MseLossBackward0>)\n",
      "tensor(0.0253, grad_fn=<MseLossBackward0>)\n",
      "tensor(0.0253, grad_fn=<MseLossBackward0>)\n",
      "tensor(0.0253, grad_fn=<MseLossBackward0>)\n",
      "tensor(0.0253, grad_fn=<MseLossBackward0>)\n",
      "tensor(0.0253, grad_fn=<MseLossBackward0>)\n",
      "tensor(0.0253, grad_fn=<MseLossBackward0>)\n",
      "tensor(0.0253, grad_fn=<MseLossBackward0>)\n",
      "tensor(0.0253, grad_fn=<MseLossBackward0>)\n",
      "tensor(0.0253, grad_fn=<MseLossBackward0>)\n",
      "tensor(0.0253, grad_fn=<MseLossBackward0>)\n",
      "tensor(0.0253, grad_fn=<MseLossBackward0>)\n",
      "tensor(0.0253, grad_fn=<MseLossBackward0>)\n",
      "tensor(0.0253, grad_fn=<MseLossBackward0>)\n",
      "tensor(0.0253, grad_fn=<MseLossBackward0>)\n",
      "tensor(0.0253, grad_fn=<MseLossBackward0>)\n",
      "tensor(0.0253, grad_fn=<MseLossBackward0>)\n",
      "tensor(0.0253, grad_fn=<MseLossBackward0>)\n",
      "tensor(0.0253, grad_fn=<MseLossBackward0>)\n",
      "tensor(0.0253, grad_fn=<MseLossBackward0>)\n",
      "tensor(0.0253, grad_fn=<MseLossBackward0>)\n",
      "tensor(0.0253, grad_fn=<MseLossBackward0>)\n"
     ]
    }
   ],
   "source": [
    "linear_model = nn.Linear(1, 1)  # one input and one output y = w x + b\n",
    "print(linear_model.parameters)\n",
    "optimizer = optim.SGD(linear_model.parameters(), lr= 0.05)  # lr = learning rate\n",
    "training_loop(n_epochs = 100, optimizer = optimizer,  \n",
    "              model    = linear_model,\n",
    "             loss_fn   = nn.MSELoss(), # error function = MSE = Mean Square Error\n",
    "             x_t_train = x_t_train,  x_t_val= x_t_val,\n",
    "             y_t_train = y_t_train, y_t_val = y_t_val, eps = 0.01)\n",
    "# split data into training and validation\n"
   ]
  },
  {
   "cell_type": "code",
   "execution_count": null,
   "metadata": {},
   "outputs": [],
   "source": [
    "plt.plot(x_t, model(x_t, w_train, b_train), 'ro')\n",
    "plt.plot(x_t, y_t, 'b.')\n",
    "plt.show()"
   ]
  },
  {
   "cell_type": "code",
   "execution_count": null,
   "metadata": {},
   "outputs": [],
   "source": []
  }
 ],
 "metadata": {
  "kernelspec": {
   "display_name": "Python 3.7.3 64-bit",
   "metadata": {
    "interpreter": {
     "hash": "df955ce39d0f31d56d4bb2fe0a613e5326ba60723fd33d8303a3aede8f65715c"
    }
   },
   "name": "python3"
  },
  "language_info": {
   "codemirror_mode": {
    "name": "ipython",
    "version": 3
   },
   "file_extension": ".py",
   "mimetype": "text/x-python",
   "name": "python",
   "nbconvert_exporter": "python",
   "pygments_lexer": "ipython3",
   "version": "3.9.4"
  },
  "orig_nbformat": 2
 },
 "nbformat": 4,
 "nbformat_minor": 2
}
